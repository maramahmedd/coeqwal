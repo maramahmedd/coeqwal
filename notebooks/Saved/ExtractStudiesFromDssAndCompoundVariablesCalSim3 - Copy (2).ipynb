{
 "cells": [
  {
   "cell_type": "markdown",
   "id": "e45f814080c0b939",
   "metadata": {},
   "source": [
    "## Import standard libraries"
   ]
  },
  {
   "cell_type": "code",
   "execution_count": 1,
   "id": "93c91bd1a1e8beca",
   "metadata": {
    "ExecuteTime": {
     "end_time": "2024-07-20T08:04:38.276992Z",
     "start_time": "2024-07-20T08:04:38.274280Z"
    }
   },
   "outputs": [
    {
     "name": "stderr",
     "output_type": "stream",
     "text": [
      "F:\\Dino\\COEQWAL_GIT\\coeqwal\\notebooks\\coeqwalpackage\\cqwlutils.py:17: SyntaxWarning: invalid escape sequence '\\d'\n",
      "  topsplit = re.split('(\\d+)', topleft)\n",
      "F:\\Dino\\COEQWAL_GIT\\coeqwal\\notebooks\\coeqwalpackage\\cqwlutils.py:18: SyntaxWarning: invalid escape sequence '\\d'\n",
      "  botsplit = re.split('(\\d+)', bottomright)\n"
     ]
    }
   ],
   "source": [
    "import os\n",
    "import sys\n",
    "# append coeqwal packages to path\n",
    "sys.path.append('./coeqwalpackage')\n",
    "import datetime as dt\n",
    "import pandas as pd\n",
    "import numpy as np\n",
    "import cqwlutils as cu"
   ]
  },
  {
   "cell_type": "markdown",
   "id": "4dd9145a-2421-4dd1-a31d-1edb2b5a4f64",
   "metadata": {},
   "source": [
    "## Import custom modules"
   ]
  },
  {
   "cell_type": "code",
   "execution_count": 3,
   "id": "1f61561cb3284fbd",
   "metadata": {
    "ExecuteTime": {
     "end_time": "2024-03-07T20:35:57.550559300Z",
     "start_time": "2024-03-07T20:35:57.462942100Z"
    }
   },
   "outputs": [],
   "source": [
    "# Import custom modules - NEED WINDOWS OS\n",
    "from coeqwalpackage.DataExtraction import *\n"
   ]
  },
  {
   "cell_type": "markdown",
   "id": "38a886dad8c6c902",
   "metadata": {},
   "source": [
    "## Define contol file name"
   ]
  },
  {
   "cell_type": "code",
   "execution_count": 6,
   "id": "10b0f49b-17c9-40f5-8861-5680673a5b94",
   "metadata": {},
   "outputs": [],
   "source": [
    "CtrlFile = 'CalSim3DataExtractionInitFile.xlsx'\n",
    "CtrlTab = 'Init'"
   ]
  },
  {
   "cell_type": "markdown",
   "id": "0070e30e-fec8-4e22-bf9f-bd43e1d4f7a9",
   "metadata": {},
   "source": [
    "## Read from control file"
   ]
  },
  {
   "cell_type": "code",
   "execution_count": 10,
   "id": "e614d95e-3b73-42f9-a330-7750b45b921f",
   "metadata": {},
   "outputs": [
    {
     "name": "stdout",
     "output_type": "stream",
     "text": [
      "../../CalSim3_Model_Runs/Scenarios\\Group_Data_Extraction\n",
      "coeqwal_cs3_scenario_listing_v2.xlsx\n",
      "../../CalSim3_Model_Runs/Scenarios\\coeqwal_cs3_scenario_listing_v2.xlsx\n",
      "../../CalSim3_Model_Runs/Scenarios\\Group_Data_Extraction\\DssNamesFrom_coeqwal_cs3_scenario_listing_v2.csv\n",
      "../../CalSim3_Model_Runs/Scenarios\\Group_Data_Extraction\\IndicesFrom_coeqwal_cs3_scenario_listing_v2.csv\n",
      "../../CalSim3_Model_Runs/Scenarios\\Group_Data_Extraction\\DirNamesFrom_coeqwal_cs3_scenario_listing_v2.csv\n",
      "../../CalSim3_Model_Runs/Scenarios\\trend_report_variables_v3.xlsx\n",
      "../../CalSim3_Model_Runs/Scenarios\\Group_Data_Extraction\\VarsFrom_trend_report_variables_v3.csv\n",
      "../../CalSim3_Model_Runs/Scenarios\\Group_Data_Extraction\\DataFrom_trend_report_variables_v3.csv\n",
      "Data_Extraction\\Variables_From_trend_report_variables_v3_TrendReportVars_CS3\n",
      "Model_Files\\DSS\\output\n",
      "../../CalSim3_Model_Runs/Scenarios\\Group_Data_Extraction\n"
     ]
    },
    {
     "name": "stderr",
     "output_type": "stream",
     "text": [
      "F:\\Dino\\COEQWAL_GIT\\coeqwal\\notebooks\\coeqwalpackage\\cqwlutils.py:17: SyntaxWarning: invalid escape sequence '\\d'\n",
      "  topsplit = re.split('(\\d+)', topleft)\n",
      "F:\\Dino\\COEQWAL_GIT\\coeqwal\\notebooks\\coeqwalpackage\\cqwlutils.py:18: SyntaxWarning: invalid escape sequence '\\d'\n",
      "  botsplit = re.split('(\\d+)', bottomright)\n"
     ]
    },
    {
     "ename": "NameError",
     "evalue": "name 'DSSListFile' is not defined",
     "output_type": "error",
     "traceback": [
      "\u001b[1;31m---------------------------------------------------------------------------\u001b[0m",
      "\u001b[1;31mNameError\u001b[0m                                 Traceback (most recent call last)",
      "Cell \u001b[1;32mIn[10], line 1\u001b[0m\n\u001b[1;32m----> 1\u001b[0m DSSListFile, DSSListPath, DssNamesOutPath, DssIndicesOutPath, DssDirsOutPath, VarListPath, VarOutPath, DataOutPath, ExtractionSubPath, ModelSubPath, GroupDataDirPath, DssMin, DssMax, DirMin, DirMax \u001b[38;5;241m=\u001b[39m cu\u001b[38;5;241m.\u001b[39mread_init_file(CtrlFile, CtrlTab)\n",
      "File \u001b[1;32mF:\\Dino\\COEQWAL_GIT\\coeqwal\\notebooks\\coeqwalpackage\\cqwlutils.py:169\u001b[0m, in \u001b[0;36mread_init_file\u001b[1;34m(CtrlFile, CtrlTab)\u001b[0m\n\u001b[0;32m    166\u001b[0m \u001b[38;5;28mprint\u001b[39m(GroupDataDirPath)\n\u001b[0;32m    168\u001b[0m \u001b[38;5;66;03m# return info\u001b[39;00m\n\u001b[1;32m--> 169\u001b[0m \u001b[38;5;28;01mreturn\u001b[39;00m DSSListFile, DSSListPath, DssNamesOutPath, DssIndicesOutPath, DssDirsOutPath, VarListPath, VarOutPath, DataOutPath, ExtractionSubPath, ModelSubPath, GroupDataDirPath, DssMin, DssMax, DirMin, DirMax\n",
      "\u001b[1;31mNameError\u001b[0m: name 'DSSListFile' is not defined"
     ]
    }
   ],
   "source": [
    "DSSListFile, DSSListPath, DssNamesOutPath, DssIndicesOutPath, DssDirsOutPath, VarListPath, VarOutPath, DataOutPath, ExtractionSubPath, ModelSubPath, GroupDataDirPath, DssMin, DssMax, DirMin, DirMax = cu.read_init_file(CtrlFile, CtrlTab)\n"
   ]
  },
  {
   "cell_type": "markdown",
   "id": "1fcbedee-d507-4e6b-b68f-05925492482d",
   "metadata": {},
   "source": [
    "## Define control file info and indices info (HARD CODED!)"
   ]
  },
  {
   "cell_type": "code",
   "execution_count": null,
   "id": "845c13b1-0190-49fc-a7f5-087e33665092",
   "metadata": {},
   "outputs": [],
   "source": [
    "ScenarioDirInd = 'B2'\n",
    "DssListFileInd = 'B3'\n",
    "DssListTabInd = 'B4'\n",
    "IndexMinInd = 'C5' # first scenario index\n",
    "IndexMaxInd = 'D5' # last scenario index\n",
    "ScenariosDirMinInd = 'C6' # first dss dir index\n",
    "ScenariosDirMaxInd = 'D6' # last dss dir index\n",
    "DssPathMinInd = 'C7' # first dss path index\n",
    "DssPathMaxInd = 'D7' # last dss path index\n",
    "StartMinInd = 'C8' # first start date index\n",
    "StartMaxInd = 'D8' # last start date index\n",
    "EndMinInd = 'C9' # First end date index\n",
    "EndMaxInd = 'D9' # Last end date index\n",
    "GroupDataDirInd = 'B10' # Group data extraction directory\n",
    "VarFileNameInd = 'B11' # Variable list file name\n",
    "VarFileTabInd = 'B12' # Variable list file tab\n",
    "VarMinInd = 'C13' # top left of variable name block\n",
    "VarMaxInd = 'D13' # bottom right of variable name block\n",
    "ExtractionDirInd = 'B14'\n",
    "ModelFilesDirInd = 'B15'\n",
    "ModelSubDirInd = 'B16'\n"
   ]
  },
  {
   "cell_type": "markdown",
   "id": "2930d0d5-b00a-4a04-86d6-4fa7fb38f59e",
   "metadata": {},
   "source": [
    "## Read directory structure and contol file name"
   ]
  },
  {
   "cell_type": "code",
   "execution_count": null,
   "id": "7dd2acd3-f2ec-4f53-9902-83c7301d3dfc",
   "metadata": {},
   "outputs": [],
   "source": [
    "print(CtrlFile)\n",
    "print(CtrlTab)\n",
    "Hdr, ScenarioDir = cu.read_from_excel(CtrlFile, CtrlTab, ScenarioDirInd, ScenarioDirInd, hdr=False) # Scenarios directory (../../CalSim3_Model_Runs/Scenarios in the current structure)\n",
    "ScenarioDir = ScenarioDir[0][0]\n",
    "Hdr, DssListFile = cu.read_from_excel(CtrlFile, CtrlTab, DssListFileInd, DssListFileInd, hdr=False) # DSS file names Excel workbook\n",
    "DssListFile = DssListFile[0][0]\n",
    "DSSListPath = os.path.join(ScenarioDir,DssListFile) # path to DSS file names Excel workbook\n",
    "print(DSSListPath)"
   ]
  },
  {
   "cell_type": "markdown",
   "id": "29446521-6a71-4808-b0ac-f98c3e3717e5",
   "metadata": {},
   "source": [
    "## Control file example"
   ]
  },
  {
   "cell_type": "code",
   "execution_count": null,
   "id": "acc73155-0f97-4ae6-b056-a36eaaa5a6d2",
   "metadata": {},
   "outputs": [],
   "source": [
    "#Item\tName or description\tUpper Left Cell\tLower Right Cell\n",
    "#Scenarios Directory\t../../CalSim3_Model_Runs/Scenarios\t\t\n",
    "#Scenario Listings File\tcoeqwal_cs3_scenario_listing_v2.xlsx\t\t\n",
    "#Scenario Listings Tab\tscenario_list\t\t\n",
    "#Scenario Indices\tScenario identifiers\tA1\tA11\n",
    "#Scenario Directory Indices\tScenario directory names\tC1\tC11\n",
    "#DSS Path Indices\tDss path names\tG1\tG11\n",
    "#Start Date Indices\tStart dates\tH1\tH11\n",
    "#Start Date Indices\tEnd dates\tI1\tI11\n",
    "#Group Extraction Directory\tGroup_Data_Extraction\t\t\n",
    "#Variables Listing File\ttrend_report_variables_v3.xlsx\t\t\n",
    "#Variables List Tab\tVariables List\t\tE177\n",
    "#Variables List Indices\tVariables List Block\tD8\tE177\n",
    "#Data Extraction Dir\tData_Extraction\t\t\n",
    "#Model Files Dir\tModel_Files\t\t\n",
    "#Model Files SubDir\tModelFiles\t\t\n"
   ]
  },
  {
   "cell_type": "markdown",
   "id": "79ca7199-7787-4df4-85f9-7aea3bb7c26f",
   "metadata": {},
   "source": [
    "## Read file names and ranges for DSS and vars from control file"
   ]
  },
  {
   "cell_type": "code",
   "execution_count": null,
   "id": "39a5763d-1596-417b-8686-10aefdaa9026",
   "metadata": {},
   "outputs": [],
   "source": [
    "Hdr, DssListTab = cu.read_from_excel(CtrlFile, CtrlTab, DssListTabInd, DssListTabInd, hdr=False) # DSS file names Excel workbook Tab\n",
    "DssListTab = DssListTab[0][0]\n",
    "Hdr, IndexMin = cu.read_from_excel(CtrlFile, CtrlTab, IndexMinInd, IndexMinInd, hdr=False) # Scenario Index Name UL\n",
    "IndexMin = IndexMin[0][0]\n",
    "Hdr, IndexMax = cu.read_from_excel(CtrlFile, CtrlTab, IndexMaxInd, IndexMaxInd, hdr=False) # Scenario Index Name LR\n",
    "IndexMax = IndexMax[0][0]\n",
    "Hdr, DirMin = cu.read_from_excel(CtrlFile, CtrlTab, ScenariosDirMinInd, ScenariosDirMinInd, hdr=False) # Scenario Dir Name UL\n",
    "DirMin = DirMin[0][0]\n",
    "Hdr, DirMax = cu.read_from_excel(CtrlFile, CtrlTab, ScenariosDirMaxInd, ScenariosDirMaxInd, hdr=False) # Scenario Dir Name UL\n",
    "DirMax = DirMax[0][0]\n",
    "Hdr, DssMin = cu.read_from_excel(CtrlFile, CtrlTab, DssPathMinInd, DssPathMinInd, hdr=False) # DSS Path Name UL\n",
    "DssMin = DssMin[0][0]\n",
    "Hdr, DssMax = cu.read_from_excel(CtrlFile, CtrlTab, DssPathMaxInd, DssPathMaxInd, hdr=False) # DSS Path Name LR\n",
    "DssMax = DssMax[0][0]\n",
    "Hdr, StartMin = cu.read_from_excel(CtrlFile, CtrlTab, StartMinInd, StartMinInd, hdr=False) # Start Date UL\n",
    "StartMin = StartMin[0][0]\n",
    "Hdr, StartMax = cu.read_from_excel(CtrlFile, CtrlTab, StartMaxInd, StartMaxInd, hdr=False) # Start Date LR\n",
    "StartMax = StartMax[0][0]\n",
    "Hdr, EndMin = cu.read_from_excel(CtrlFile, CtrlTab, EndMinInd, EndMinInd, hdr=False) # Start Date UL\n",
    "EndMin = EndMin[0][0]\n",
    "Hdr, EndMax = cu.read_from_excel(CtrlFile, CtrlTab, EndMaxInd, EndMaxInd, hdr=False) # Start Date LR\n",
    "EndMax = EndMax[0][0]\n",
    "Hdr, GroupDataDirName = cu.read_from_excel(CtrlFile, CtrlTab, GroupDataDirInd, GroupDataDirInd, hdr=False) # directory name for group data extraction (Group_Data_Extraction in current structure)\n",
    "GroupDataDirName = GroupDataDirName[0][0]\n",
    "GroupDataDirPath = os.path.join(ScenarioDir, GroupDataDirName) # group data extraction directory (../../CalSim3_Model_Runs/Scenarios/Group_Data_Extraction in the current structure)\n",
    "print(GroupDataDirPath)\n",
    "Hdr, VarListFileName = cu.read_from_excel(CtrlFile, CtrlTab, VarFileNameInd, VarFileNameInd, hdr=False) # directory name for variable listing (trend_report_variables_v3.xlsx in current structure)\n",
    "VarListFileName = VarListFileName[0][0]\n",
    "Hdr, VarListTab = cu.read_from_excel(CtrlFile, CtrlTab, VarFileTabInd, VarFileTabInd, hdr=False) # tab for variable listing (TrendReportVars_CS3 in current structure)\n",
    "VarListTab = VarListTab[0][0]\n",
    "Hdr, VarMin = cu.read_from_excel(CtrlFile, CtrlTab, VarMinInd, VarMinInd, hdr=False) # variable listing UL\n",
    "VarMin = VarMin[0][0]\n",
    "Hdr, VarMax = cu.read_from_excel(CtrlFile, CtrlTab, VarMaxInd, VarMaxInd, hdr=False) # variable listing LR\n",
    "VarMax = VarMax[0][0]\n",
    "Hdr, ExtractionDir = cu.read_from_excel(CtrlFile, CtrlTab, ExtractionDirInd, ExtractionDirInd, hdr=False) #  Var extraction Dir Name\n",
    "ExtractionDir = ExtractionDir[0][0]\n",
    "Hdr, ModelFilesDir = cu.read_from_excel(CtrlFile, CtrlTab, ModelFilesDirInd, ModelFilesDirInd, hdr=False) #  Var extraction Dir Name\n",
    "ModelFilesDir = ModelFilesDir[0][0]\n",
    "Hdr, ModelSubDir = cu.read_from_excel(CtrlFile, CtrlTab, ModelSubDirInd, ModelSubDirInd, hdr=False) #  Var extraction SubDir Name\n",
    "ModelSubDir = ModelSubDir[0][0]"
   ]
  },
  {
   "cell_type": "markdown",
   "id": "ef643a37-4bf8-4e88-af9c-b683abe11e50",
   "metadata": {},
   "source": [
    "## Construct file and directory names"
   ]
  },
  {
   "cell_type": "code",
   "execution_count": null,
   "id": "76a92dd2-0943-44ad-9a81-a1a6efcd73db",
   "metadata": {},
   "outputs": [],
   "source": [
    "# File and directory names\n",
    "DssListFileCsv = DssListFile.replace(\".xlsx\", \".csv\")\n",
    "DssNamesOut = 'DssNamesFrom_' + DssListFileCsv # output DSS names CSV\n",
    "DssIndicesOut = 'IndicesFrom_' + DssListFileCsv # output DSS indices CSV\n",
    "DssDirsOut = 'DirNamesFrom_' + DssListFileCsv # output directory names CSV\n",
    "DssNamesOutPath = os.path.join(GroupDataDirPath, DssNamesOut) # output DSS names CSV path\n",
    "DssIndicesOutPath = os.path.join(GroupDataDirPath, DssIndicesOut) # output DSS index names CSV path\n",
    "DssDirsOutPath = os.path.join(GroupDataDirPath, DssDirsOut) # output DSS dir names CSV path\n",
    "\n",
    "# list of relevant variables file, tab, and range (B & C parts)\n",
    "VarListName = os.path.splitext(VarListFileName)[0] # variable names file without extension\n",
    "VarListExt = os.path.splitext(VarListFileName)[1] # variable names file extension\n",
    "VarListFile = VarListName + VarListExt # full file name\n",
    "VarListFileCsv = VarListFile.replace(\".xlsx\", \".csv\")\n",
    "VarListPath = os.path.join(ScenarioDir, VarListFile)\n",
    "VarOut = 'VarsFrom_' + VarListFileCsv # output compund variable names CSV\n",
    "VarOutPath = os.path.join(GroupDataDirPath, VarOut)\n",
    "DataOut = 'DataFrom_' + VarListFileCsv # file name for multi-study output CSV\n",
    "DataOutPath = os.path.join(GroupDataDirPath, DataOut) # file name for multi-study output CSV path\n",
    "ExtractionSubDir = 'Variables_From_' + VarListName + '_' + VarListTab\n",
    "ExtractionSubPath = os.path.join(ExtractionDir, ExtractionSubDir)\n",
    "ModelSubPath = os.path.join('Model_Files','DSS','output')\n",
    "print(DssNamesOutPath)\n",
    "print(DssIndicesOutPath)\n",
    "print(DssDirsOutPath)\n",
    "print(VarListPath)\n",
    "print(VarOutPath)\n",
    "print(DataOutPath)\n",
    "print(ExtractionSubPath)\n",
    "print(ModelSubPath)"
   ]
  },
  {
   "cell_type": "markdown",
   "id": "6cd54452-9c03-4f71-ba08-06fe3b8ba071",
   "metadata": {},
   "source": [
    "## Check for output directory and create if necessary"
   ]
  },
  {
   "cell_type": "code",
   "execution_count": null,
   "id": "168bb493-d379-4c25-a56e-e3da4fab4619",
   "metadata": {},
   "outputs": [],
   "source": [
    "# check if output directory exists\n",
    "if not os.path.exists(GroupDataDirPath):\n",
    "    # print warning\n",
    "    print(\"Warning: directory \" + GroupDataDirPath + \" does not exists and will be created\")\n",
    "    \n",
    "    # Create the directory\n",
    "    os.makedirs(GroupDataDirPath)\n"
   ]
  },
  {
   "cell_type": "markdown",
   "id": "429f736a-622a-4ca0-86f7-8979963700bf",
   "metadata": {},
   "source": [
    "## Define Nan Values"
   ]
  },
  {
   "cell_type": "code",
   "execution_count": null,
   "id": "17492ae9-5a01-4eb2-b6e1-4422fbd39d5a",
   "metadata": {},
   "outputs": [],
   "source": [
    "# NaN values as defined by CalSim3\n",
    "Nan1 = -901\n",
    "Nan2 = -902"
   ]
  },
  {
   "cell_type": "markdown",
   "id": "e02cf686-69bd-4a22-bc35-42769740aae7",
   "metadata": {},
   "source": [
    "## Read indeces, dss names, directory names, start and end dates, time range"
   ]
  },
  {
   "cell_type": "code",
   "execution_count": null,
   "id": "79d2a998-acab-49e7-a2bd-25e6336f0ede",
   "metadata": {},
   "outputs": [],
   "source": [
    "dsshdr, dssname = cu.read_from_excel(DSSListPath, DssListTab, DssMin, DssMax, hdr=True)\n",
    "dss_names = []\n",
    "for i in range(len(dssname)):\n",
    "    #modified_name = os.path.join(os.path.split(os.sep(dssname[1:])))\n",
    "    #print(modified_name)\n",
    "    dss_names.append(dssname[i][0])\n",
    "dss_names"
   ]
  },
  {
   "cell_type": "code",
   "execution_count": null,
   "id": "903558b7-1a87-4911-ba9a-2f7ac847da9b",
   "metadata": {},
   "outputs": [],
   "source": [
    "indexhdr, index_name = cu.read_from_excel(DSSListPath, DssListTab, IndexMin, IndexMax, hdr=True)\n",
    "index_names = []\n",
    "for i in range(len(index_name)):\n",
    "    index_names.append(index_name[i][0])\n",
    "index_names"
   ]
  },
  {
   "cell_type": "code",
   "execution_count": null,
   "id": "16f0c016-d82e-4927-b944-f09db7b2f1bc",
   "metadata": {},
   "outputs": [],
   "source": [
    "dirhdr, dir_name = cu.read_from_excel(DSSListPath, DssListTab, DirMin, DirMax, hdr=True)\n",
    "dir_names = []\n",
    "for i in range(len(dir_name)):\n",
    "    dir_names.append(dir_name[i][0])\n",
    "dir_names"
   ]
  },
  {
   "cell_type": "code",
   "execution_count": null,
   "id": "a456c0e6-61d8-427b-8d45-1814053c4208",
   "metadata": {},
   "outputs": [],
   "source": [
    "starthdr, start_date = cu.read_from_excel(DSSListPath, DssListTab, StartMin, StartMax, hdr=True)\n",
    "start_dates = []\n",
    "for i in range(len(start_date)):\n",
    "    start_dates.append(start_date[i][0])\n",
    "#print(start_dates)\n",
    "datetime_start_dates = pd.to_datetime(start_dates)\n",
    "#print(datetime_start_dates)\n",
    "# turns out that dss reading library wands a dt datetime, not pd datetime\n",
    "dt_datetime_start_dates = [dt.to_pydatetime() for dt in datetime_start_dates]\n",
    "#print(dt_datetime_start_dates)\n"
   ]
  },
  {
   "cell_type": "code",
   "execution_count": null,
   "id": "464a887b-829e-4773-bb8c-60e8d6ff35ab",
   "metadata": {},
   "outputs": [],
   "source": [
    "endhdr, end_date = cu.read_from_excel(DSSListPath, DssListTab, EndMin, EndMax, hdr=True)\n",
    "end_dates = []\n",
    "for i in range(len(end_date)):\n",
    "    end_dates.append(end_date[i][0])\n",
    "#print(end_dates)\n",
    "datetime_end_dates = pd.to_datetime(end_dates)\n",
    "#print(datetime_end_dates)\n",
    "dt_datetime_end_dates = [dt.to_pydatetime() for dt in datetime_end_dates]\n",
    "#print(dt_datetime_end_dates)\n"
   ]
  },
  {
   "cell_type": "code",
   "execution_count": null,
   "id": "12b72d5a-0f63-4a97-958b-00ada84e768e",
   "metadata": {},
   "outputs": [],
   "source": [
    "min_datetime = min(dt_datetime_start_dates)\n",
    "print('Min time: ')\n",
    "print(min_datetime)\n",
    "max_datetime = max(dt_datetime_end_dates)\n",
    "print('Max time: ')\n",
    "print(max_datetime)\n"
   ]
  },
  {
   "cell_type": "markdown",
   "id": "a29e2bcf-61a4-43ac-9592-265c4697b238",
   "metadata": {},
   "source": [
    "## Set path and file names for indeces, dss names and directory names and write files"
   ]
  },
  {
   "cell_type": "code",
   "execution_count": null,
   "id": "9c833f80b59df8b2",
   "metadata": {
    "ExecuteTime": {
     "end_time": "2024-03-01T20:35:11.969298Z",
     "start_time": "2024-03-01T20:35:09.051341400Z"
    }
   },
   "outputs": [],
   "source": [
    "dss_df = (pd.DataFrame(dss_names))\n",
    "dss_df.to_csv(DssNamesOutPath)\n",
    "print(DssNamesOutPath)\n",
    "index_df = (pd.DataFrame(dss_names))\n",
    "index_df.to_csv(DssIndicesOutPath)\n",
    "print(DssIndicesOutPath)\n",
    "dir_df = (pd.DataFrame(dss_names))\n",
    "dir_df.to_csv(DssDirsOutPath)\n",
    "print(DssDirsOutPath)\n"
   ]
  },
  {
   "cell_type": "markdown",
   "id": "19277cc0585f1d94",
   "metadata": {},
   "source": [
    "## Read and write variables list"
   ]
  },
  {
   "cell_type": "code",
   "execution_count": null,
   "id": "3fb3f15cd87dd616",
   "metadata": {
    "ExecuteTime": {
     "end_time": "2024-04-09T01:54:08.182311Z",
     "start_time": "2024-04-09T01:54:08.163835Z"
    }
   },
   "outputs": [],
   "source": [
    "# get vars\n",
    "hdr, vars = cu.read_from_excel(VarListPath, VarListTab,VarMin,VarMax,hdr=True)\n",
    "var_df = pd.DataFrame(data=vars, columns=hdr)\n",
    "var_df"
   ]
  },
  {
   "cell_type": "code",
   "execution_count": null,
   "id": "46bf197511748b99",
   "metadata": {
    "ExecuteTime": {
     "end_time": "2024-03-01T20:36:38.557235800Z",
     "start_time": "2024-03-01T20:36:35.270309Z"
    }
   },
   "outputs": [],
   "source": [
    "# write vars\n",
    "var_df.to_csv(VarOutPath)\n",
    "VarOutPath"
   ]
  },
  {
   "cell_type": "markdown",
   "id": "6628a28e-9f77-493b-8fa2-653417587890",
   "metadata": {},
   "source": [
    "## Loop on DSS files, extract variables and write to scenario-specific CSVs"
   ]
  },
  {
   "cell_type": "code",
   "execution_count": null,
   "id": "7302a6de1b9a8a6",
   "metadata": {
    "ExecuteTime": {
     "end_time": "2024-04-09T01:53:51.833594Z",
     "start_time": "2024-04-09T01:53:51.498533Z"
    }
   },
   "outputs": [],
   "source": [
    "for i in range(len(dss_names)):\n",
    "    dss_name = os.path.join(ScenarioDir, dss_names[i])\n",
    "    datetime_start_date = dt_datetime_start_dates[i]\n",
    "    datetime_end_date = dt_datetime_end_dates[i]\n",
    "    print('\\nReading ' + dss_name + '\\n')   \n",
    "    df = preprocess_study_dss(var_df, dss_name, datetime_start_date, datetime_end_date)\n",
    "    file_path = dss_name.replace(ModelSubPath, ExtractionSubPath).replace(\".dss\", \".csv\")\n",
    "    dir_path = os.path.dirname(file_path)\n",
    "    os.makedirs(dir_path, exist_ok=True)\n",
    "    print(df.tail(5))\n",
    "    print('\\nWriting ' + file_path + '\\n')\n",
    "    df.to_csv(file_path, na_rep=\"NaN\", header=True, index=True)"
   ]
  },
  {
   "cell_type": "markdown",
   "id": "90450152-5ade-4e8d-8829-2746f5612913",
   "metadata": {},
   "source": [
    "## Read all DSS files, combine variables and write to single CSV\n",
    "#### Note: warnings will appear whenever a study length is shorter than the max time range"
   ]
  },
  {
   "cell_type": "code",
   "execution_count": null,
   "id": "be880735-b04e-47ce-969c-e60b1d6ecc53",
   "metadata": {},
   "outputs": [],
   "source": [
    "df = preprocess_compound_data_dss(var_df, ScenarioDir, dss_names, index_names, min_datetime, max_datetime)"
   ]
  },
  {
   "cell_type": "code",
   "execution_count": null,
   "id": "2e81e7cb-138b-4ec7-8d04-43f31d71e35a",
   "metadata": {},
   "outputs": [],
   "source": [
    "df.tail(5)"
   ]
  },
  {
   "cell_type": "code",
   "execution_count": null,
   "id": "ef5e6c08-3bc4-4cfb-9073-2cc60932298e",
   "metadata": {},
   "outputs": [],
   "source": [
    "# replace the two DSS NaN values with NaN\n",
    "df.replace([Nan1, Nan2], np.nan, inplace=True)"
   ]
  },
  {
   "cell_type": "code",
   "execution_count": null,
   "id": "b09c18c9-64de-4e35-b263-1a9bc466885f",
   "metadata": {
    "scrolled": true
   },
   "outputs": [],
   "source": [
    "df.tail(5)"
   ]
  },
  {
   "cell_type": "markdown",
   "id": "18a21684-0557-41e0-b4d2-5ea587fafd5d",
   "metadata": {},
   "source": [
    "## Write the compund dataframe to CSV"
   ]
  },
  {
   "cell_type": "code",
   "execution_count": null,
   "id": "6f9ed99e-35fb-4008-8692-a032f60e8c74",
   "metadata": {},
   "outputs": [],
   "source": [
    "# write the dataframe to CSV\n",
    "print('Writing ' + DataOutPath)\n",
    "df.to_csv(DataOutPath, na_rep=\"NaN\", header=True, index=True)"
   ]
  },
  {
   "cell_type": "code",
   "execution_count": null,
   "id": "30338b68-52fb-4ebb-9f09-c4dbd2198682",
   "metadata": {},
   "outputs": [],
   "source": []
  }
 ],
 "metadata": {
  "kernelspec": {
   "display_name": "Python 3 (ipykernel)",
   "language": "python",
   "name": "python3"
  },
  "language_info": {
   "codemirror_mode": {
    "name": "ipython",
    "version": 3
   },
   "file_extension": ".py",
   "mimetype": "text/x-python",
   "name": "python",
   "nbconvert_exporter": "python",
   "pygments_lexer": "ipython3",
   "version": "3.12.4"
  }
 },
 "nbformat": 4,
 "nbformat_minor": 5
}
