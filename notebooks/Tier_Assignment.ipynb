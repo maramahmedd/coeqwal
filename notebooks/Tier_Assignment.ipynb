{
 "cells": [
  {
   "cell_type": "code",
   "execution_count": 107,
   "id": "10d713d7-dab5-4937-b9ee-9833d6fa5f80",
   "metadata": {},
   "outputs": [],
   "source": [
    "import sys\n",
    "import os\n",
    "\n",
    "package_path = os.path.abspath('coeqwalpackage') \n",
    "if package_path not in sys.path:\n",
    "    sys.path.insert(0, package_path)\n",
    "\n",
    "import cqwlutils as cu\n",
    "import plotting as pu\n"
   ]
  },
  {
   "cell_type": "markdown",
   "id": "44075b65-83be-4333-8e87-fcaf6425578e",
   "metadata": {},
   "source": [
    "Load Historical Data"
   ]
  },
  {
   "cell_type": "code",
   "execution_count": 108,
   "id": "9cd6a334-cb37-4737-bfae-f938fb23b0bf",
   "metadata": {},
   "outputs": [
    {
     "name": "stdout",
     "output_type": "stream",
     "text": [
      "     SnsrType LAKE COMPUTED AF EVAPORATION LAKE COMPUTED AF EVAPORATION.1  \\\n",
      "0     SnsrNum                           68                             68   \n",
      "1       Units                           AF                             AF   \n",
      "2       Value                        VALUE                      DATA_FLAG   \n",
      "3        DATE                          NaN                            NaN   \n",
      "4  1953-10-01                          NaN                                  \n",
      "\n",
      "  ACCUMULATED PRECIPITATION ACCUMULATED PRECIPITATION.1 REVISED PRECIPITATION  \\\n",
      "0                         2                           2                    80   \n",
      "1                    INCHES                      INCHES                INCHES   \n",
      "2                     VALUE                   DATA_FLAG                 VALUE   \n",
      "3                       NaN                         NaN                   NaN   \n",
      "4                       NaN                                               NaN   \n",
      "\n",
      "  REVISED PRECIPITATION.1 RESERVOIR STORAGE RESERVOIR STORAGE.1  \n",
      "0                      80                15                  15  \n",
      "1                  INCHES                AF                  AF  \n",
      "2               DATA_FLAG             VALUE           DATA_FLAG  \n",
      "3                     NaN               NaN                 NaN  \n",
      "4                     NaN         3325600.0                 NaN  \n"
     ]
    }
   ],
   "source": [
    "import pandas as pd\n",
    "\n",
    "file_path = \"/Users/rain/Desktop/DSP/coeqwal/Historical_data/20250506_MonthlyResData_CDEC-SHA.csv\"\n",
    "df_raw = pd.read_csv(file_path, header=None)\n",
    "\n",
    "start_row = df_raw[df_raw.apply(lambda row: row.astype(str).str.contains('RESERVOIR STORAGE').any(), axis=1)].index[0]\n",
    "df = pd.read_csv(file_path, skiprows=start_row)\n",
    "print(df.head())\n"
   ]
  },
  {
   "cell_type": "code",
   "execution_count": 109,
   "id": "17d46482-ee9f-4bb9-8313-8698a1d26d7c",
   "metadata": {},
   "outputs": [],
   "source": [
    "import pandas as pd\n",
    "\n",
    "def extract_reservoir_storage_from_file(file_path):\n",
    "    \"\"\"\n",
    "    Extracts and cleans historical reservoir storage data from a formatted CSV file.\n",
    "    \n",
    "    Looks for a column that contains 'RESERVOIR STORAGE' in row 3 and 'VALUE' in row 6.\n",
    "    \n",
    "    Parameters:\n",
    "        file_path (str): Path to the CSV file\n",
    "    \n",
    "    Returns:\n",
    "        df_clean (pd.DataFrame): Cleaned DataFrame with columns 'DATE' and 'RESERVOIR STORAGE'\n",
    "    \"\"\"\n",
    "    df_raw = pd.read_csv(file_path, header=None)\n",
    "\n",
    "    target_col_index = None\n",
    "    for col in df_raw.columns:\n",
    "        if (\n",
    "            str(df_raw.iloc[3, col]).strip() == 'RESERVOIR STORAGE' and\n",
    "            str(df_raw.iloc[6, col]).strip() == 'VALUE'\n",
    "        ):\n",
    "            target_col_index = col\n",
    "            break\n",
    "\n",
    "    if target_col_index is None:\n",
    "        raise ValueError(\"No column with 'RESERVOIR STORAGE' and 'VALUE' found in expected rows.\")\n",
    "\n",
    "    df_data = df_raw.iloc[7:].copy()\n",
    "    df_data = df_data[[0, target_col_index]]\n",
    "    df_data.columns = ['DATE', 'RESERVOIR STORAGE']\n",
    "\n",
    "    df_data['DATE'] = pd.to_datetime(df_data['DATE'], errors='coerce')\n",
    "    df_data['RESERVOIR STORAGE'] = pd.to_numeric(df_data['RESERVOIR STORAGE'], errors='coerce')\n",
    "    df_clean = df_data.dropna()\n",
    "\n",
    "    return df_clean\n"
   ]
  },
  {
   "cell_type": "code",
   "execution_count": 110,
   "id": "0e6e7753-7486-41dd-b5cc-0aacc793089b",
   "metadata": {},
   "outputs": [
    {
     "name": "stderr",
     "output_type": "stream",
     "text": [
      "/var/folders/q2/lk8v_g9j7pd3cppdtbty00240000gn/T/ipykernel_33735/1091298288.py:33: UserWarning: Could not infer format, so each element will be parsed individually, falling back to `dateutil`. To ensure parsing is consistent and as-expected, please specify a format.\n",
      "  df_data['DATE'] = pd.to_datetime(df_data['DATE'], errors='coerce')\n"
     ]
    }
   ],
   "source": [
    "file_path = \"/Users/rain/Desktop/DSP/coeqwal/Historical_data/20250506_MonthlyResData_CDEC-SHA.csv\"\n",
    "df_clean = extract_reservoir_storage_from_file(file_path)\n",
    "april_df, thresholds = compute_april_storage_thresholds(df_clean)"
   ]
  },
  {
   "cell_type": "code",
   "execution_count": 111,
   "id": "353cd185-7418-4aec-8be1-d0b1a05c3c31",
   "metadata": {},
   "outputs": [
    {
     "name": "stdout",
     "output_type": "stream",
     "text": [
      "          DATE  RESERVOIR STORAGE\n",
      "862 2024-12-01           3477.400\n",
      "863 2025-01-01           3492.457\n",
      "864 2025-02-01           3561.400\n",
      "865 2025-03-01           4067.273\n",
      "866 2025-04-01           4396.007\n"
     ]
    }
   ],
   "source": [
    "print(df_data.tail(5))  # shows last 5 rows\n"
   ]
  },
  {
   "cell_type": "markdown",
   "id": "f226d22b-1f39-456d-ade2-ae48a1d0c4bf",
   "metadata": {},
   "source": [
    "Calculate Percentiles"
   ]
  },
  {
   "cell_type": "code",
   "execution_count": 112,
   "id": "14b6c00a-3f10-45a1-bead-5d330f7a2296",
   "metadata": {},
   "outputs": [],
   "source": [
    "import pandas as pd\n",
    "\n",
    "def compute_april_storage_thresholds(df, percentiles=(0.25, 0.5, 0.9)):\n",
    "    \"\"\"\n",
    "    Computes specified percentile thresholds for end-of-April reservoir storage (in TAF).\n",
    "\n",
    "    Parameters:\n",
    "        df (pd.DataFrame): Input DataFrame with 'DATE' and 'RESERVOIR STORAGE' columns in AF\n",
    "        percentiles (tuple): A tuple of three percentiles (e.g., (0.25, 0.5, 0.9))\n",
    "\n",
    "    Returns:\n",
    "        april_df (pd.DataFrame): End-of-April values per year\n",
    "        thresholds_df (pd.DataFrame): DataFrame with Percentile and Threshold (TAF) columns\n",
    "    \"\"\"\n",
    "    df = df.copy()\n",
    "\n",
    "    df['DATE'] = pd.to_datetime(df['DATE'], errors='coerce')\n",
    "    df['RESERVOIR STORAGE'] = pd.to_numeric(df['RESERVOIR STORAGE'], errors='coerce') / 1000  # convert AF to TAF\n",
    "    df = df.dropna()\n",
    "\n",
    "    # Filter for April and group by year (last value of April)\n",
    "    df_april = df[df['DATE'].dt.month == 4]\n",
    "    df_april = df_april.groupby(df_april['DATE'].dt.year).last()\n",
    "\n",
    "    values = df_april['RESERVOIR STORAGE']\n",
    "    threshold_values = [values.quantile(p) for p in percentiles]\n",
    "    labels = [f\"{int(p * 100)}th\" for p in percentiles]\n",
    "\n",
    "    thresholds_df = pd.DataFrame({\n",
    "        'Percentile': labels,\n",
    "        'Threshold (TAF)': threshold_values\n",
    "    })\n",
    "\n",
    "    return df_april, thresholds_df\n"
   ]
  },
  {
   "cell_type": "code",
   "execution_count": 113,
   "id": "d19bbaf4-4f75-47d6-9523-c5fa9dfda7c6",
   "metadata": {},
   "outputs": [
    {
     "name": "stdout",
     "output_type": "stream",
     "text": [
      "Thresholds (TAF):   Percentile  Threshold (TAF)\n",
      "0       25th        3728.4715\n",
      "1       50th        4194.7660\n",
      "2       90th        4431.9000\n",
      "           DATE  RESERVOIR STORAGE\n",
      "DATE                              \n",
      "1954 1954-04-01             4431.0\n",
      "1955 1955-04-01             3678.8\n",
      "1957 1957-04-01             4431.3\n",
      "1958 1958-04-01             4415.5\n",
      "1959 1959-04-01             3948.7\n"
     ]
    }
   ],
   "source": [
    "april_df, thresholds = compute_april_storage_thresholds(df_clean)\n",
    "print(\"Thresholds (TAF):\", thresholds)\n",
    "print(april_df.head())\n"
   ]
  },
  {
   "cell_type": "markdown",
   "id": "b870c78a-7c60-47a4-a9bc-5288e80670d4",
   "metadata": {},
   "source": [
    "Load CalSim Data"
   ]
  },
  {
   "cell_type": "code",
   "execution_count": 120,
   "id": "c98c1d1a-a48e-44d1-9d6d-1376f08f930f",
   "metadata": {},
   "outputs": [],
   "source": [
    "import pandas as pd\n",
    "import re\n",
    "\n",
    "\n",
    "CtrlFile = 'CalSim3DataExtractionInitFile_v3.xlsx'\n",
    "CtrlTab = 'Init'\n",
    "\n",
    "ScenarioListFile, ScenarioListTab, ScenarioListPath, DVDssNamesOutPath, SVDssNamesOutPath, ScenarioIndicesOutPath, DssDirsOutPath, VarListPath, VarListFile, VarListTab, VarOutPath, DataOutPath, ConvertDataOutPath, ExtractionSubPath, DemandDeliverySubPath, ModelSubPath, GroupDataDirPath, ScenarioDir, DVDssMin, DVDssMax, SVDssMin, SVDssMax, NameMin, NameMax, DirMin, DirMax, IndexMin, IndexMax, StartMin, StartMax, EndMin, EndMax, VarMin, VarMax, DemandFilePath, DemandFileName, DemandFileTab, DemMin, DemMax = cu.read_init_file(CtrlFile, CtrlTab)\n",
    "\n",
    "\n",
    "df, dss_names = read_in_df(ConvertDataOutPath,DVDssNamesOutPath)\n",
    "df.columns = ['_'.join(map(str, col)) if isinstance(col, tuple) else col for col in df.columns]\n",
    "\n",
    "scenario_codes = sorted(set(re.findall(r's\\d{4}', '_'.join(df.columns))))\n",
    "scenario_codes = [s for s in scenario_codes if s != 's0017']\n",
    "\n",
    "shasta_cols = [\n",
    "    col for col in df.columns\n",
    "    if 'SHSTA' in col and any(s in col for s in scenario_codes)\n",
    "]\n",
    "\n"
   ]
  },
  {
   "cell_type": "code",
   "execution_count": 121,
   "id": "3eec0ba7-8755-4ec7-bb67-923f484894ab",
   "metadata": {},
   "outputs": [],
   "source": [
    "import re\n",
    "import pandas as pd\n",
    "\n",
    "def extract_variable_by_scenario(df, variable, value_type='STORAGE'):\n",
    "    \"\"\"\n",
    "    Extracts CalSim variable columns (e.g., S_SHSTA) for all scenarios s0001–s0018 (excluding s0017),\n",
    "    filtering by value type (e.g., 'STORAGE', not 'STORAGE-LEVEL').\n",
    "\n",
    "    Parameters:\n",
    "        df (pd.DataFrame): Wide-format CalSim3 output DataFrame with datetime index\n",
    "        variable (str): The core variable name to match (e.g., 'S_SHSTA')\n",
    "        value_type (str): Filter substring that must appear in column (default: 'STORAGE')\n",
    "\n",
    "    Returns:\n",
    "        pd.DataFrame: A DataFrame with one column per scenario + 'DATE'\n",
    "    \"\"\"\n",
    "    df.columns = ['_'.join(map(str, col)) if isinstance(col, tuple) else col for col in df.columns]\n",
    "\n",
    "    scenario_codes = [f's{str(i).zfill(4)}' for i in range(1, 19) if i != 17]\n",
    "\n",
    "    matched_cols = [\n",
    "        col for col in df.columns\n",
    "        if col.startswith(f'CALSIM_{variable}_') and\n",
    "           value_type in col and\n",
    "           not f'{value_type}-' in col and\n",
    "           any(s in col for s in scenario_codes)\n",
    "    ]\n",
    "\n",
    "    if not matched_cols:\n",
    "        print(f\"No matches found for variable '{variable}' with value type '{value_type}'\")\n",
    "        return pd.DataFrame()\n",
    "\n",
    "    var_df = df[matched_cols].copy()\n",
    "    var_df.columns = [re.search(r's\\d{4}', col).group(0) for col in matched_cols]\n",
    "    var_df['DATE'] = df.index\n",
    "\n",
    "    return var_df\n"
   ]
  },
  {
   "cell_type": "code",
   "execution_count": 116,
   "id": "1bd0d150-5f75-4af9-abb3-f72b2d32ff6b",
   "metadata": {},
   "outputs": [
    {
     "name": "stdout",
     "output_type": "stream",
     "text": [
      "                s0001      s0002      s0003      s0004      s0005      s0006  \\\n",
      "1921-10-31  3057.8250  3055.7650  3052.4030  3049.2104  3045.7935  2739.6995   \n",
      "1921-11-30  2908.5920  2901.6628  2907.8103  2880.3591  2902.9326  2642.8274   \n",
      "1921-12-31  3076.5317  3074.3784  3153.1946  3126.2263  3141.3110  2815.1300   \n",
      "1922-01-31  3204.3298  3165.3650  3258.3555  3224.1177  3231.2770  2947.1340   \n",
      "1922-02-28  3585.4524  3590.3950  3786.1345  3742.7375  3732.1300  3334.8300   \n",
      "\n",
      "                s0007      s0008      s0009      s0010      s0011      s0012  \\\n",
      "1921-10-31  2739.6995  2739.6995  2739.6995  2739.6995  3055.7650  3056.3748   \n",
      "1921-11-30  2642.8274  2642.8274  2642.8274  2642.8274  2901.6660  2902.6270   \n",
      "1921-12-31  2815.1300  2815.1300  2815.1300  2815.1300  3074.3816  3075.3418   \n",
      "1922-01-31  2947.1340  2947.1340  2947.1340  2947.1340  3165.3684  3166.3280   \n",
      "1922-02-28  3334.8300  3334.8300  3334.8300  3334.8300  3590.3984  3591.3574   \n",
      "\n",
      "                s0013      s0014      s0015      s0016      s0018       DATE  \n",
      "1921-10-31  3049.2104  3049.2104  3056.3748  3049.2104  2846.1462 1921-10-31  \n",
      "1921-11-30  2887.4712  2888.0470  2902.6270  2888.0470  2778.0261 1921-11-30  \n",
      "1921-12-31  3133.3337  3133.9092  3075.3418  3133.9092  2950.8190 1921-12-31  \n",
      "1922-01-31  3231.2205  3231.7957  3166.3280  3231.7957  3039.2703 1922-01-31  \n",
      "1922-02-28  3749.8367  3750.4114  3591.3574  3750.4114  3199.3123 1922-02-28  \n"
     ]
    }
   ],
   "source": [
    "shasta_df = extract_variable_by_scenario(df, 'S_SHSTA')\n",
    "print(shasta_df.head())\n"
   ]
  },
  {
   "cell_type": "markdown",
   "id": "50f95e16-3be3-48df-8433-ce667f62881c",
   "metadata": {},
   "source": [
    "Overall Function"
   ]
  },
  {
   "cell_type": "code",
   "execution_count": 117,
   "id": "924e7d33-552a-49b5-bc1e-f927b5ff5167",
   "metadata": {},
   "outputs": [],
   "source": [
    "import pandas as pd\n",
    "import numpy as np\n",
    "import re\n",
    "\n",
    "def load_historical_storage_csv(filepath):\n",
    "    \"\"\"\n",
    "    Loads historical SHA reservoir data from raw CSV with no headers.\n",
    "    Returns a cleaned DataFrame with 'DATE' and 'RESERVOIR STORAGE' columns (AF).\n",
    "    \"\"\"\n",
    "    df_raw = pd.read_csv(filepath, header=None)\n",
    "\n",
    "    target_col_index = None\n",
    "    for col in df_raw.columns:\n",
    "        if (\n",
    "            str(df_raw.iloc[3, col]).strip() == 'RESERVOIR STORAGE' and\n",
    "            str(df_raw.iloc[6, col]).strip() == 'VALUE'\n",
    "        ):\n",
    "            target_col_index = col\n",
    "            break\n",
    "\n",
    "    if target_col_index is None:\n",
    "        raise ValueError(\"Could not find RESERVOIR STORAGE column in historical data.\")\n",
    "\n",
    "    df_data = df_raw.iloc[7:].copy()\n",
    "    df_data = df_data[[0, target_col_index]]\n",
    "    df_data.columns = ['DATE', 'RESERVOIR STORAGE']\n",
    "    df_data['DATE'] = pd.to_datetime(df_data['DATE'], errors='coerce')\n",
    "    df_data['RESERVOIR STORAGE'] = pd.to_numeric(df_data['RESERVOIR STORAGE'], errors='coerce')\n",
    "    df_data = df_data.dropna()\n",
    "\n",
    "    return df_data\n",
    "\n",
    "def extract_historical_thresholds(df_hist, month=4):\n",
    "    \"\"\"\n",
    "    Calculate 25th, 50th, and 90th percentiles from historical storage data.\n",
    "    Converts AF to TAF.\n",
    "    \"\"\"\n",
    "    df = df_hist.copy()\n",
    "    df['RESERVOIR STORAGE'] = df['RESERVOIR STORAGE'] / 1000  # Convert AF to TAF\n",
    "    df = df[df['DATE'].dt.month == month]\n",
    "    df = df[df['DATE'].dt.is_month_end]  # pick end-of-month values\n",
    "\n",
    "    storage_values = df['RESERVOIR STORAGE'].dropna()\n",
    "    p25 = np.percentile(storage_values, 25)\n",
    "    p50 = np.percentile(storage_values, 50)\n",
    "    p90 = np.percentile(storage_values, 90)\n",
    "\n",
    "    return pd.DataFrame({\n",
    "        'Percentile': ['25th', '50th', '90th'],\n",
    "        'Threshold (TAF)': [p25, p50, p90]\n",
    "    })\n",
    "\n",
    "def extract_historical_thresholds(df_hist, month=5, day=1):\n",
    "    \"\"\"\n",
    "    Calculate 25th, 50th, and 90th percentiles from historical storage data.\n",
    "    Uses AF → TAF conversion. Filters for values on specified month/day \n",
    "    (e.g., May 1 to represent end-of-April).\n",
    "    \"\"\"\n",
    "    df = df_hist.copy()\n",
    "    df['RESERVOIR STORAGE'] = df['RESERVOIR STORAGE'] / 1000  # Convert AF to TAF\n",
    "\n",
    "    df = df[(df['DATE'].dt.month == month) & (df['DATE'].dt.day == day)]\n",
    "\n",
    "    storage_values = df['RESERVOIR STORAGE'].dropna()\n",
    "\n",
    "    if storage_values.empty:\n",
    "        raise ValueError(f\"No historical data found for {month:02d}-{day:02d} (e.g., May 1st for end-of-April).\")\n",
    "\n",
    "    p25 = np.percentile(storage_values, 25)\n",
    "    p50 = np.percentile(storage_values, 50)\n",
    "    p90 = np.percentile(storage_values, 90)\n",
    "\n",
    "    return pd.DataFrame({\n",
    "        'Percentile': ['25th', '50th', '90th'],\n",
    "        'Threshold (TAF)': [p25, p50, p90]\n",
    "    })\n",
    "\n",
    "\n",
    "def assign_tiers_from_calsim(var_df, thresholds_df, month=4):\n",
    "    \"\"\"\n",
    "    Assign Tier 1–4 to each scenario based on April-end modeled storage vs historical percentiles.\n",
    "    \"\"\"\n",
    "    p25 = thresholds_df.loc[thresholds_df['Percentile'] == '25th', 'Threshold (TAF)'].values[0]\n",
    "    p50 = thresholds_df.loc[thresholds_df['Percentile'] == '50th', 'Threshold (TAF)'].values[0]\n",
    "    p90 = thresholds_df.loc[thresholds_df['Percentile'] == '90th', 'Threshold (TAF)'].values[0]\n",
    "\n",
    "    results = []\n",
    "\n",
    "    for scenario in var_df.columns:\n",
    "        if scenario == 'DATE':\n",
    "            continue\n",
    "\n",
    "        df_scenario = var_df[['DATE', scenario]].dropna()\n",
    "        df_scenario = df_scenario[df_scenario['DATE'].dt.month == month]\n",
    "        df_scenario = df_scenario[df_scenario['DATE'].dt.is_month_end]\n",
    "\n",
    "        total_years = df_scenario['DATE'].dt.year.nunique()\n",
    "        values = df_scenario[scenario]\n",
    "\n",
    "        top = (values > p90).sum() / total_years\n",
    "        mid = ((values > p50) & (values <= p90)).sum() / total_years\n",
    "        low = ((values > p25) & (values <= p50)).sum() / total_years\n",
    "        bot = (values <= p25).sum() / total_years\n",
    "\n",
    "        if top >= 0.9:  #This can be changed based on requirement\n",
    "            tier = 1\n",
    "        elif (top + mid) >= 0.9:\n",
    "            tier = 2\n",
    "        elif (top + mid) >= 0.3:\n",
    "            tier = 3\n",
    "        else:\n",
    "            tier = 4\n",
    "\n",
    "        results.append({\n",
    "            'Scenario': scenario,\n",
    "            'Top': round(top, 2),\n",
    "            'Mid': round(mid, 2),\n",
    "            'Low': round(low, 2),\n",
    "            'Bot': round(bot, 2),\n",
    "            'Tier': tier\n",
    "        })\n",
    "\n",
    "    return pd.DataFrame(results)\n"
   ]
  },
  {
   "cell_type": "code",
   "execution_count": 118,
   "id": "a456d92b-c799-4746-b541-8c3dcd872eb9",
   "metadata": {},
   "outputs": [
    {
     "name": "stdout",
     "output_type": "stream",
     "text": [
      "   Scenario   Top   Mid   Low   Bot  Tier\n",
      "0     s0001  0.35  0.17  0.31  0.17     3\n",
      "1     s0002  0.24  0.24  0.29  0.23     3\n",
      "2     s0003  0.14  0.24  0.28  0.34     3\n",
      "3     s0004  0.13  0.20  0.29  0.38     3\n",
      "4     s0005  0.12  0.18  0.25  0.45     3\n",
      "5     s0006  0.35  0.20  0.27  0.18     3\n",
      "6     s0007  0.35  0.20  0.28  0.17     3\n",
      "7     s0008  0.35  0.20  0.28  0.17     3\n",
      "8     s0009  0.35  0.20  0.27  0.18     3\n",
      "9     s0010  0.35  0.20  0.27  0.18     3\n",
      "10    s0011  0.24  0.24  0.32  0.20     3\n",
      "11    s0012  0.24  0.24  0.31  0.21     3\n",
      "12    s0013  0.13  0.20  0.30  0.37     3\n",
      "13    s0014  0.13  0.21  0.33  0.33     3\n",
      "14    s0015  0.24  0.24  0.33  0.19     3\n",
      "15    s0016  0.13  0.21  0.33  0.33     3\n",
      "16    s0018  0.01  0.07  0.21  0.71     4\n"
     ]
    },
    {
     "name": "stderr",
     "output_type": "stream",
     "text": [
      "/var/folders/q2/lk8v_g9j7pd3cppdtbty00240000gn/T/ipykernel_33735/3645769524.py:27: UserWarning: Could not infer format, so each element will be parsed individually, falling back to `dateutil`. To ensure parsing is consistent and as-expected, please specify a format.\n",
      "  df_data['DATE'] = pd.to_datetime(df_data['DATE'], errors='coerce')\n"
     ]
    }
   ],
   "source": [
    "# Load and clean historical file\n",
    "hist_df = load_historical_storage_csv(\"/Users/rain/Desktop/DSP/coeqwal/Historical_data/20250506_MonthlyResData_CDEC-SHA.csv\")\n",
    "\n",
    "# Compute percentiles from historical\n",
    "thresholds_df = extract_historical_thresholds(hist_df, month=4)\n",
    "\n",
    "# Extract CalSim output for S_SHSTA\n",
    "shasta_df = extract_variable_by_scenario(df, 'S_SHSTA', value_type='STORAGE')\n",
    "\n",
    "# Assign tiers\n",
    "tier_df = assign_tiers_from_calsim(shasta_df, thresholds_df, month=4)\n",
    "\n",
    "print(tier_df)\n"
   ]
  },
  {
   "cell_type": "code",
   "execution_count": null,
   "id": "2a507c31-b116-4559-8012-09fa6a32596c",
   "metadata": {},
   "outputs": [],
   "source": []
  }
 ],
 "metadata": {
  "kernelspec": {
   "display_name": "Python 3 (ipykernel)",
   "language": "python",
   "name": "python3"
  },
  "language_info": {
   "codemirror_mode": {
    "name": "ipython",
    "version": 3
   },
   "file_extension": ".py",
   "mimetype": "text/x-python",
   "name": "python",
   "nbconvert_exporter": "python",
   "pygments_lexer": "ipython3",
   "version": "3.9.6"
  }
 },
 "nbformat": 4,
 "nbformat_minor": 5
}
