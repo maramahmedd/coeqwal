{
 "cells": [
  {
   "cell_type": "code",
   "execution_count": 1,
   "id": "b1e4d95c-967e-4a72-b51a-dadd13b71fde",
   "metadata": {},
   "outputs": [
    {
     "name": "stdout",
     "output_type": "stream",
     "text": [
      "Requirement already satisfied: openpyxl in c:\\users\\dino\\anaconda3\\lib\\site-packages (3.1.5)\n",
      "Requirement already satisfied: et-xmlfile in c:\\users\\dino\\anaconda3\\lib\\site-packages (from openpyxl) (1.1.0)\n",
      "Note: you may need to restart the kernel to use updated packages.\n"
     ]
    }
   ],
   "source": [
    "pip install openpyxl"
   ]
  },
  {
   "cell_type": "code",
   "execution_count": 2,
   "id": "0720049c-a144-4ca9-9f4e-8fc11fce354c",
   "metadata": {},
   "outputs": [
    {
     "name": "stdout",
     "output_type": "stream",
     "text": [
      "Requirement already satisfied: plotly in c:\\users\\dino\\anaconda3\\lib\\site-packages (5.24.1)\n",
      "Requirement already satisfied: tenacity>=6.2.0 in c:\\users\\dino\\anaconda3\\lib\\site-packages (from plotly) (8.2.3)\n",
      "Requirement already satisfied: packaging in c:\\users\\dino\\anaconda3\\lib\\site-packages (from plotly) (24.1)\n",
      "Note: you may need to restart the kernel to use updated packages.\n"
     ]
    }
   ],
   "source": [
    "pip install plotly"
   ]
  },
  {
   "cell_type": "code",
   "execution_count": 3,
   "id": "a57132b2-85b2-4c25-99a0-24ec2b82cccc",
   "metadata": {},
   "outputs": [
    {
     "name": "stdout",
     "output_type": "stream",
     "text": [
      "Requirement already satisfied: pandas in c:\\users\\dino\\anaconda3\\lib\\site-packages (2.2.2)\n",
      "Requirement already satisfied: numpy>=1.26.0 in c:\\users\\dino\\anaconda3\\lib\\site-packages (from pandas) (1.26.4)\n",
      "Requirement already satisfied: python-dateutil>=2.8.2 in c:\\users\\dino\\anaconda3\\lib\\site-packages (from pandas) (2.9.0.post0)\n",
      "Requirement already satisfied: pytz>=2020.1 in c:\\users\\dino\\anaconda3\\lib\\site-packages (from pandas) (2024.1)\n",
      "Requirement already satisfied: tzdata>=2022.7 in c:\\users\\dino\\anaconda3\\lib\\site-packages (from pandas) (2023.3)\n",
      "Requirement already satisfied: six>=1.5 in c:\\users\\dino\\anaconda3\\lib\\site-packages (from python-dateutil>=2.8.2->pandas) (1.16.0)\n",
      "Note: you may need to restart the kernel to use updated packages.\n"
     ]
    }
   ],
   "source": [
    "pip install pandas"
   ]
  },
  {
   "cell_type": "code",
   "execution_count": 4,
   "id": "4bbe94bc-b45f-4fa0-bd23-bb3e10699490",
   "metadata": {},
   "outputs": [
    {
     "name": "stdout",
     "output_type": "stream",
     "text": [
      "Requirement already satisfied: seaborn in c:\\users\\dino\\anaconda3\\lib\\site-packages (0.13.2)\n",
      "Requirement already satisfied: numpy!=1.24.0,>=1.20 in c:\\users\\dino\\anaconda3\\lib\\site-packages (from seaborn) (1.26.4)\n",
      "Requirement already satisfied: pandas>=1.2 in c:\\users\\dino\\anaconda3\\lib\\site-packages (from seaborn) (2.2.2)\n",
      "Requirement already satisfied: matplotlib!=3.6.1,>=3.4 in c:\\users\\dino\\anaconda3\\lib\\site-packages (from seaborn) (3.9.2)\n",
      "Requirement already satisfied: contourpy>=1.0.1 in c:\\users\\dino\\anaconda3\\lib\\site-packages (from matplotlib!=3.6.1,>=3.4->seaborn) (1.2.0)\n",
      "Requirement already satisfied: cycler>=0.10 in c:\\users\\dino\\anaconda3\\lib\\site-packages (from matplotlib!=3.6.1,>=3.4->seaborn) (0.11.0)\n",
      "Requirement already satisfied: fonttools>=4.22.0 in c:\\users\\dino\\anaconda3\\lib\\site-packages (from matplotlib!=3.6.1,>=3.4->seaborn) (4.51.0)\n",
      "Requirement already satisfied: kiwisolver>=1.3.1 in c:\\users\\dino\\anaconda3\\lib\\site-packages (from matplotlib!=3.6.1,>=3.4->seaborn) (1.4.4)\n",
      "Requirement already satisfied: packaging>=20.0 in c:\\users\\dino\\anaconda3\\lib\\site-packages (from matplotlib!=3.6.1,>=3.4->seaborn) (24.1)\n",
      "Requirement already satisfied: pillow>=8 in c:\\users\\dino\\anaconda3\\lib\\site-packages (from matplotlib!=3.6.1,>=3.4->seaborn) (10.4.0)\n",
      "Requirement already satisfied: pyparsing>=2.3.1 in c:\\users\\dino\\anaconda3\\lib\\site-packages (from matplotlib!=3.6.1,>=3.4->seaborn) (3.1.2)\n",
      "Requirement already satisfied: python-dateutil>=2.7 in c:\\users\\dino\\anaconda3\\lib\\site-packages (from matplotlib!=3.6.1,>=3.4->seaborn) (2.9.0.post0)\n",
      "Requirement already satisfied: pytz>=2020.1 in c:\\users\\dino\\anaconda3\\lib\\site-packages (from pandas>=1.2->seaborn) (2024.1)\n",
      "Requirement already satisfied: tzdata>=2022.7 in c:\\users\\dino\\anaconda3\\lib\\site-packages (from pandas>=1.2->seaborn) (2023.3)\n",
      "Requirement already satisfied: six>=1.5 in c:\\users\\dino\\anaconda3\\lib\\site-packages (from python-dateutil>=2.7->matplotlib!=3.6.1,>=3.4->seaborn) (1.16.0)\n",
      "Note: you may need to restart the kernel to use updated packages.\n"
     ]
    }
   ],
   "source": [
    "pip install seaborn"
   ]
  },
  {
   "cell_type": "code",
   "execution_count": 5,
   "id": "2ae42434-6e01-4026-8d61-d7554185f3d7",
   "metadata": {},
   "outputs": [
    {
     "name": "stdout",
     "output_type": "stream",
     "text": [
      "Requirement already satisfied: dash in c:\\users\\dino\\anaconda3\\lib\\site-packages (3.0.4)\n",
      "Requirement already satisfied: Flask<3.1,>=1.0.4 in c:\\users\\dino\\anaconda3\\lib\\site-packages (from dash) (3.0.3)\n",
      "Requirement already satisfied: Werkzeug<3.1 in c:\\users\\dino\\anaconda3\\lib\\site-packages (from dash) (3.0.3)\n",
      "Requirement already satisfied: plotly>=5.0.0 in c:\\users\\dino\\anaconda3\\lib\\site-packages (from dash) (5.24.1)\n",
      "Requirement already satisfied: importlib-metadata in c:\\users\\dino\\anaconda3\\lib\\site-packages (from dash) (7.0.1)\n",
      "Requirement already satisfied: typing-extensions>=4.1.1 in c:\\users\\dino\\anaconda3\\lib\\site-packages (from dash) (4.11.0)\n",
      "Requirement already satisfied: requests in c:\\users\\dino\\anaconda3\\lib\\site-packages (from dash) (2.32.3)\n",
      "Requirement already satisfied: retrying in c:\\users\\dino\\anaconda3\\lib\\site-packages (from dash) (1.3.4)\n",
      "Requirement already satisfied: nest-asyncio in c:\\users\\dino\\anaconda3\\lib\\site-packages (from dash) (1.6.0)\n",
      "Requirement already satisfied: setuptools in c:\\users\\dino\\anaconda3\\lib\\site-packages (from dash) (75.1.0)\n",
      "Requirement already satisfied: Jinja2>=3.1.2 in c:\\users\\dino\\anaconda3\\lib\\site-packages (from Flask<3.1,>=1.0.4->dash) (3.1.4)\n",
      "Requirement already satisfied: itsdangerous>=2.1.2 in c:\\users\\dino\\anaconda3\\lib\\site-packages (from Flask<3.1,>=1.0.4->dash) (2.2.0)\n",
      "Requirement already satisfied: click>=8.1.3 in c:\\users\\dino\\anaconda3\\lib\\site-packages (from Flask<3.1,>=1.0.4->dash) (8.1.7)\n",
      "Requirement already satisfied: blinker>=1.6.2 in c:\\users\\dino\\anaconda3\\lib\\site-packages (from Flask<3.1,>=1.0.4->dash) (1.6.2)\n",
      "Requirement already satisfied: tenacity>=6.2.0 in c:\\users\\dino\\anaconda3\\lib\\site-packages (from plotly>=5.0.0->dash) (8.2.3)\n",
      "Requirement already satisfied: packaging in c:\\users\\dino\\anaconda3\\lib\\site-packages (from plotly>=5.0.0->dash) (24.1)\n",
      "Requirement already satisfied: MarkupSafe>=2.1.1 in c:\\users\\dino\\anaconda3\\lib\\site-packages (from Werkzeug<3.1->dash) (2.1.3)\n",
      "Requirement already satisfied: zipp>=0.5 in c:\\users\\dino\\anaconda3\\lib\\site-packages (from importlib-metadata->dash) (3.17.0)\n",
      "Requirement already satisfied: charset-normalizer<4,>=2 in c:\\users\\dino\\anaconda3\\lib\\site-packages (from requests->dash) (3.3.2)\n",
      "Requirement already satisfied: idna<4,>=2.5 in c:\\users\\dino\\anaconda3\\lib\\site-packages (from requests->dash) (3.7)\n",
      "Requirement already satisfied: urllib3<3,>=1.21.1 in c:\\users\\dino\\anaconda3\\lib\\site-packages (from requests->dash) (2.2.3)\n",
      "Requirement already satisfied: certifi>=2017.4.17 in c:\\users\\dino\\anaconda3\\lib\\site-packages (from requests->dash) (2025.1.31)\n",
      "Requirement already satisfied: six>=1.7.0 in c:\\users\\dino\\anaconda3\\lib\\site-packages (from retrying->dash) (1.16.0)\n",
      "Requirement already satisfied: colorama in c:\\users\\dino\\anaconda3\\lib\\site-packages (from click>=8.1.3->Flask<3.1,>=1.0.4->dash) (0.4.6)\n",
      "Note: you may need to restart the kernel to use updated packages.\n"
     ]
    }
   ],
   "source": [
    "pip install dash"
   ]
  },
  {
   "cell_type": "code",
   "execution_count": 6,
   "id": "9d9e3e85-41c4-4a54-8a01-fca105043c30",
   "metadata": {},
   "outputs": [],
   "source": [
    "# Import standard libraries\n",
    "import os\n",
    "from contextlib import redirect_stdout\n",
    "\n",
    "import sys\n",
    "# append coeqwal packages to path\n",
    "sys.path.append('./coeqwalpackage')\n",
    "\n",
    "import numpy as np\n",
    "import pandas as pd\n",
    "import datetime as dt\n",
    "import re\n",
    "import plotly.graph_objects as go\n",
    "import dash\n",
    "from dash import html, dcc\n",
    "from dash.dependencies import Input, Output"
   ]
  },
  {
   "cell_type": "code",
   "execution_count": 7,
   "id": "94383115-b956-4613-9319-8bfeea53b518",
   "metadata": {},
   "outputs": [],
   "source": [
    "# Import custom libraries\n",
    "# Note: on my computer the next import doesn't work the first time I call it, why? If I re-run the cell, then it is ok. MUST DEBUG\n",
    "from coeqwalpackage.metrics import *\n",
    "import cqwlutils as cu\n",
    "import plotting as pu"
   ]
  },
  {
   "cell_type": "code",
   "execution_count": 8,
   "id": "deac8fd7-b1da-4432-86fa-fea9a0154067",
   "metadata": {},
   "outputs": [],
   "source": [
    "CtrlFile = 'CalSim3DataExtractionInitFile_v4.xlsx'\n",
    "CtrlTab = 'Init'\n",
    "ScenarioListFile, ScenarioListTab, ScenarioListPath, DVDssNamesOutPath, SVDssNamesOutPath, ScenarioIndicesOutPath, DssDirsOutPath, VarListPath, VarListFile, VarListTab, VarOutPath, DataOutPath, ConvertDataOutPath, ExtractionSubPath, DemandDeliverySubPath, ModelSubPath, GroupDataDirPath, ScenarioDir, DVDssMin, DVDssMax, SVDssMin, SVDssMax, NameMin, NameMax, DirMin, DirMax, IndexMin, IndexMax, StartMin, StartMax, EndMin, EndMax, VarMin, VarMax, DemandFilePath, DemandFileName, DemandFileTab, DemMin, DemMax, InflowOutSubPath, InflowFilePath, InflowFileName, InflowFileTab, InflowMin, InflowMax = cu.read_init_file(CtrlFile, CtrlTab)"
   ]
  },
  {
   "cell_type": "code",
   "execution_count": 9,
   "id": "202aba41-64b2-40cd-b262-2657bac54344",
   "metadata": {},
   "outputs": [],
   "source": [
    "df, dss_names = read_in_df(ConvertDataOutPath,DVDssNamesOutPath)"
   ]
  },
  {
   "cell_type": "code",
   "execution_count": 10,
   "id": "60724ba9-f9f2-46e8-9241-6a7ed37f9292",
   "metadata": {},
   "outputs": [
    {
     "name": "stderr",
     "output_type": "stream",
     "text": [
      "C:\\Dino\\COEQWAL\\COEQWAL_GIT\\coeqwal\\notebooks\\coeqwalpackage\\metrics.py:175: PerformanceWarning: dropping on a non-lexsorted multi-index without a level parameter may impact performance.\n",
      "  return df_copy.drop([\"Date\", \"Year\", \"Month\"], axis=1)\n"
     ]
    }
   ],
   "source": [
    "df = add_water_year_column(df)"
   ]
  },
  {
   "cell_type": "code",
   "execution_count": 11,
   "id": "085a8936-80e1-4a40-82d7-8815cdf38d8d",
   "metadata": {},
   "outputs": [],
   "source": [
    "metrics_path = GroupDataDirPath + \"/metrics_output\"\n",
    "if not os.path.exists(metrics_path):\n",
    "    os.makedirs(metrics_path)\n",
    "\n",
    "plots_path = GroupDataDirPath + \"/plots_output\"\n",
    "if not os.path.exists(plots_path):\n",
    "    os.makedirs(plots_path)\n",
    "    "
   ]
  },
  {
   "cell_type": "code",
   "execution_count": 12,
   "id": "d7678886-bd12-4928-8280-c5119b19a6e2",
   "metadata": {},
   "outputs": [],
   "source": [
    "drought_wys = [\n",
    "    1924,1925,1926,1929,1930,1931,1932,1933,1934,\n",
    "    1939,1944,1945,1947,1948,1949,1950,1955,1960,\n",
    "    1961,1962,1964,1976,1977,1979,1981,1987,1988,\n",
    "    1989,1990,1991,1992,1994,2001,2008,2009,2013,\n",
    "    2014,2015,2020,2021\n",
    "]"
   ]
  },
  {
   "cell_type": "code",
   "execution_count": 13,
   "id": "fce22f30-660b-4612-bac1-b61c35e059d4",
   "metadata": {},
   "outputs": [],
   "source": [
    "def get_scenario_styles(studies):\n",
    "    \"\"\"\n",
    "    Given a list (or tuple) of scenario numbers, return an appropriate dictionary\n",
    "    specifying line color, style, and label. Extend as needed for more scenarios.\n",
    "    \"\"\"\n",
    "    scenario_tuple = tuple(studies)\n",
    "    if scenario_tuple == (2, 11):\n",
    "        return {\n",
    "            \"s0002\": {'color': 'black', 'linestyle': 'solid', 'label': 's0002 Baseline'},\n",
    "            \"s0011\": {'color': 'red', 'linestyle': 'dash', 'label': 's0011 TUCP'}\n",
    "        }\n",
    "    elif scenario_tuple == (11, 12):\n",
    "        return {\n",
    "            \"s0011\": {'color': 'black', 'linestyle': 'solid', 'label': 's0011 Baseline (TUCP)'},\n",
    "            \"s0012\": {'color': 'red', 'linestyle': 'dash', 'label': 's0012 SGMA'}\n",
    "        }\n",
    "    elif scenario_tuple == (11, 13):\n",
    "        return {\n",
    "            \"s0011\": {'color': 'black', 'linestyle': 'solid', 'label': 's0011 Baseline (TUCP)'},\n",
    "            \"s0013\": {'color': 'red', 'linestyle': 'dot', 'label': 's0013 Future Baseline'}\n",
    "        }\n",
    "    else:\n",
    "        colors = ['black', 'red', 'blue', 'green', 'orange']\n",
    "        linestyles = ['solid', 'dash', 'dot', 'longdash', 'dashdot']\n",
    "        style_dict = {}\n",
    "        for i, s in enumerate(studies):\n",
    "            style_dict[s] = {\n",
    "                'color': colors[i % len(colors)],\n",
    "                'linestyle': linestyles[i % len(linestyles)],  # Use valid Plotly styles\n",
    "                'label': s  # Fix: Remove extra 's' prefix\n",
    "            }\n",
    "        return style_dict\n"
   ]
  },
  {
   "cell_type": "code",
   "execution_count": 14,
   "id": "c95515df-ce7e-4792-b8f4-c5d4c18500f9",
   "metadata": {},
   "outputs": [],
   "source": [
    "variables = [\n",
    "    \"NOD_STORAGE_\", \"DEL_NOD_AG_\", \"DEL_NOD_MI_\",\n",
    "    \"C_SAC041_\", \"C_SJR070_\", \"NDO_\",\n",
    "    \"X2_PRV_KM_\", \"TOTAL_EXPORTS_\",\n",
    "    \"DEL_SOD_AG_\", \"SOD_STORAGE_\", \"DEL_SOD_MI_\"\n",
    "]\n",
    "\n",
    "scenario_comps = [[2,11],[11,12],[11,13]]"
   ]
  },
  {
   "cell_type": "code",
   "execution_count": 15,
   "id": "d7ae7ebb-c63f-452b-ab0f-295d976fc10c",
   "metadata": {},
   "outputs": [
    {
     "name": "stdout",
     "output_type": "stream",
     "text": [
      "['CALSIM_BANKSEC_MAX14DAY_s0001_SALINITY-APPROX_1MON_L2020A_PER-AVER_UMHOS/CM', 'CALSIM_COREQSACDV_s0001_FLOW_1MON_L2020A_PER-AVER_CFS', 'CALSIM_CO_EC_MONTH_s0001_SALINITY_1MON_L2020A_PER-AVER_UMHOS/CM', 'CALSIM_C_AMR004_s0001_CHANNEL_1MON_L2020A_PER-AVER_CFS', 'CALSIM_C_AMR004_ADD_s0001_FLOW-ADDITIONAL-INSTREAM_1MON_L2020A_PER-AVER_CFS', 'CALSIM_C_AMR004_MIF_s0001_FLOW-MIN-INSTREAM_1MON_L2020A_PER-AVER_CFS', 'CALSIM_C_CAA003_s0001_CHANNEL_1MON_L2020A_PER-AVER_CFS', 'CALSIM_C_CAA003_CVP_s0001_FLOW-DELIVERY_1MON_L2020A_PER-AVER_CFS', 'CALSIM_C_CAA003_SWP_s0001_FLOW-DELIVERY_1MON_L2020A_PER-AVER_CFS', 'CALSIM_C_CAA003_TD_s0001_FLOW-DELIVERY_1MON_L2020A_PER-AVER_CFS', 'CALSIM_C_CHW017_s0001_CHANNEL_1MON_L2020A_PER-AVER_CFS', 'CALSIM_C_CLV004_s0001_CHANNEL_1MON_L2020A_PER-AVER_CFS', 'CALSIM_C_DMC000_s0001_CHANNEL_1MON_L2020A_PER-AVER_CFS', 'CALSIM_C_DMC000_TD_s0001_FLOW-DELIVERY_1MON_L2020A_PER-AVER_CFS', 'CALSIM_C_DMC003_s0001_CHANNEL_1MON_L2020A_PER-AVER_CFS', 'CALSIM_C_EBP016_s0001_CHANNEL_1MON_L2020A_PER-AVER_CFS', 'CALSIM_C_FOLSM_s0001_CHANNEL_1MON_L2020A_PER-AVER_CFS', 'CALSIM_C_FTR003_s0001_CHANNEL_1MON_L2020A_PER-AVER_CFS', 'CALSIM_C_FTR003_MIF_s0001_FLOW-MIN-INSTREAM_1MON_L2020A_PER-AVER_CFS', 'CALSIM_C_FTR012_s0001_CHANNEL_1MON_L2020A_PER-AVER_CFS']\n"
     ]
    }
   ],
   "source": [
    "df.columns = ['_'.join(map(str, col)) for col in df.columns]\n",
    "\n",
    "print(df.columns.tolist()[:20]) \n"
   ]
  },
  {
   "cell_type": "code",
   "execution_count": 16,
   "id": "9815224a-ed9d-4248-a084-c28fec5cd4df",
   "metadata": {},
   "outputs": [
    {
     "name": "stdout",
     "output_type": "stream",
     "text": [
      "['s0001', 's0002', 's0003', 's0004', 's0005', 's0006', 's0007', 's0008', 's0009', 's0010', 's0011', 's0012', 's0013', 's0014', 's0015', 's0016', 's0018', 's0019', 's0020', 's0021']\n"
     ]
    }
   ],
   "source": [
    "original_columns = df.columns.tolist()\n",
    "\n",
    "s_numbers = set()\n",
    "for col in original_columns:\n",
    "    matches = re.findall(r's\\d{4,}', col)  \n",
    "    s_numbers.update(matches) \n",
    "\n",
    "# Convert to a sorted list\n",
    "s_numbers_list = sorted(s_numbers)\n",
    "\n",
    "print(s_numbers_list)"
   ]
  },
  {
   "cell_type": "markdown",
   "id": "043f72d6-0dcb-4e7d-a523-051998d85cf2",
   "metadata": {},
   "source": [
    "## Interactive Dashboard"
   ]
  },
  {
   "cell_type": "markdown",
   "id": "cd8f694a-49eb-43a7-8ecf-44831d7f0263",
   "metadata": {},
   "source": [
    "### Time Series\n",
    "Shows how the selected variable changes over time for each scenario.\n",
    "\n",
    "### Monthly-of-Year\n",
    "Displays the monthly average for a selected year.\n",
    "\n",
    "### Single Exceedance\n",
    "Shows the probability that a value will be equaled or exceeded.\n",
    "\n",
    "### Annual Exceedance\n",
    "Shows how often the selected month's total value exceeds a given threshold across all years. Each year’s data for the chosen month is summed (e.g., total flow in April each year), and the annual values are ranked from highest to lowest. From these ranks, exceedance probabilities are calculated to show how frequently high values occur.\n",
    "\n",
    "### Month-of-Year Avg\n",
    "Averages each calendar month across all years, optionally filtered by Water Year Type. Water Year Types classify each year based on how wet or dry it was. The scale ranges from 1 (wettest) to 5 (driest)"
   ]
  },
  {
   "cell_type": "code",
   "execution_count": 17,
   "id": "505c10c9-e6c3-4e29-8803-d21b77958415",
   "metadata": {},
   "outputs": [
    {
     "data": {
      "text/html": [
       "\n",
       "        <iframe\n",
       "            width=\"100%\"\n",
       "            height=\"650\"\n",
       "            src=\"http://127.0.0.1:8050/\"\n",
       "            frameborder=\"0\"\n",
       "            allowfullscreen\n",
       "            \n",
       "        ></iframe>\n",
       "        "
      ],
      "text/plain": [
       "<IPython.lib.display.IFrame at 0x19b9b484800>"
      ]
     },
     "metadata": {},
     "output_type": "display_data"
    }
   ],
   "source": [
    "import re\n",
    "import numpy as np\n",
    "import pandas as pd\n",
    "import plotly.graph_objs as go\n",
    "import dash\n",
    "from dash import dcc, html\n",
    "from dash.dependencies import Input, Output\n",
    "\n",
    "# --- Existing Preprocessing (you already have) ---\n",
    "original_columns = df.columns.tolist()\n",
    "\n",
    "s_numbers = set()\n",
    "for col in original_columns:\n",
    "    matches = re.findall(r's\\d{4,}', col)  \n",
    "    s_numbers.update(matches) \n",
    "\n",
    "scenarios = sorted(s_numbers)\n",
    "\n",
    "# --- Extract variables and units ---\n",
    "variable_units = {}\n",
    "variables = set()\n",
    "pattern_var = re.compile(r'CALSIM_(.*?)_s\\d{4}')\n",
    "\n",
    "for col in df.columns:\n",
    "    match = pattern_var.search(col)\n",
    "    if match:\n",
    "        var_name = match.group(1)\n",
    "        unit = col.split('_')[-1]\n",
    "        variables.add(var_name)\n",
    "        if var_name not in variable_units:\n",
    "            variable_units[var_name] = unit\n",
    "\n",
    "variables = sorted(variables)\n",
    "\n",
    "# --- Dropdown options with units ---\n",
    "variable_labels = []\n",
    "for v in variables:\n",
    "    unit = variable_units.get(v, \"unknown unit\")\n",
    "    label = f\"{v} ({unit})\"\n",
    "    variable_labels.append({\"label\": label, \"value\": v})\n",
    "\n",
    "default_scenario = [scenarios[0]] if scenarios else []\n",
    "\n",
    "# --- Prepare water year DataFrame ---\n",
    "def add_water_year_column(df):\n",
    "    df_copy = df.copy().sort_index()\n",
    "    df_copy['Date'] = pd.to_datetime(df_copy.index)\n",
    "    df_copy['Year'] = df_copy['Date'].dt.year\n",
    "    df_copy['Month'] = df_copy['Date'].dt.month\n",
    "    df_copy['WaterYear'] = np.where(df_copy['Month'] >= 10, df_copy['Year'] + 1, df_copy['Year'])\n",
    "    return df_copy.drop([\"Date\", \"Year\", \"Month\"], axis=1)\n",
    "\n",
    "water_year_df = add_water_year_column(df)\n",
    "\n",
    "years_in_data = sorted(df.index.year.unique())\n",
    "drought_years = {1924, 1925, 1926, 1929, 1930, 1931, 1932, 1933, 1934, 1939,\n",
    "                  1944, 1945, 1947, 1948, 1949, 1950, 1955, 1960, 1961, 1962, 1964,\n",
    "                  1976, 1977, 1979, 1981, 1987, 1988, 1989, 1990, 1991, 1992, 1994,\n",
    "                  2001, 2008, 2009, 2013, 2014, 2015, 2020, 2021}\n",
    "year_options = [{\"label\": f\"{y} {'(Drought)' if y in drought_years else ''}\", \"value\": y} for y in years_in_data]\n",
    "water_year_type_options = [{\"label\": str(i), \"value\": i} for i in range(1, 6)]\n",
    "month_options = [{\"label\": \"April\", \"value\": 4}, {\"label\": \"September\", \"value\": 9}]\n",
    "\n",
    "plot_type_descriptions = {\n",
    "    \"time_series\": \"Shows how the selected variable changes over time for each scenario.\",\n",
    "    \"monthly\": \"Displays the monthly average for a selected year.\",\n",
    "    \"single_exceedance\": \"Shows the probability that a value will be equaled or exceeded.\",\n",
    "    \"annual_exceedance\": \"Shows how often the selected month's total value exceeds a given threshold across all years.\",\n",
    "    \"month_of_year_avg\": \"Averages each calendar month across all years, optionally filtered by Water Year Type.\"\n",
    "}\n",
    "\n",
    "def find_col(df, variable, scenario):\n",
    "    matches = [col for col in df.columns if variable in col and scenario in col]\n",
    "    return matches[0] if matches else None\n",
    "\n",
    "def find_wyt_col(df, scenario):\n",
    "    matches = [col for col in df.columns if f\"CALSIM_WYT_SAC__{scenario}\" in col and \"WATERYEARTYPE\" in col]\n",
    "    return matches[0] if matches else None\n",
    "\n",
    "def get_colors(scenarios):\n",
    "    base = [\"red\", \"blue\", \"green\", \"orange\", \"purple\", \"brown\", \"cyan\", \"magenta\", \"gray\", \"black\"]\n",
    "    return {s: base[i % len(base)] for i, s in enumerate(scenarios)}\n",
    "\n",
    "def get_line_styles():\n",
    "    return ['solid', 'dash', 'dot', 'dashdot', 'longdash', 'longdashdot']\n",
    "\n",
    "def filter_by_wyt_annual(df_col, scenario, wyt_list, month=5):\n",
    "    if not wyt_list:\n",
    "        return df_col\n",
    "    wyt_col = find_wyt_col(df, scenario)\n",
    "    if wyt_col is None:\n",
    "        return df_col\n",
    "    working_df = df[[wyt_col]].copy()\n",
    "    working_df['WaterYear'] = water_year_df['WaterYear']\n",
    "    working_df['Month'] = df.index.month\n",
    "    filtered = working_df[working_df['Month'] == month].groupby('WaterYear').first()\n",
    "    selected_years = filtered[filtered[wyt_col].isin(wyt_list)].index\n",
    "    df_col = df_col.copy()\n",
    "    df_col['WaterYear'] = water_year_df['WaterYear']\n",
    "    df_col = df_col[df_col['WaterYear'].isin(selected_years)]\n",
    "    return df_col.drop(columns='WaterYear')\n",
    "\n",
    "# --- Dash Layout & Callback ---\n",
    "app = dash.Dash(__name__)\n",
    "app.layout = html.Div([\n",
    "    html.H2(\"Water Data Dashboard\", style={'textAlign': 'center'}),\n",
    "    html.Label(\"Select Variables (must have same unit)\"),\n",
    "    dcc.Dropdown(\n",
    "        id=\"variable-dropdown\",\n",
    "        options=variable_labels,\n",
    "        value=[variables[0]] if variables else [],\n",
    "        multi=True\n",
    "    ),\n",
    "    html.Label(\"Select Scenarios\"),\n",
    "    dcc.Dropdown(id=\"scenario-dropdown\", options=[{\"label\": s, \"value\": s} for s in scenarios],\n",
    "                 value=default_scenario, multi=True),\n",
    "    html.Label(\"Select Plot Type\"),\n",
    "    dcc.Dropdown(id=\"plot-type-dropdown\", options=[\n",
    "        {\"label\": \"Time Series\", \"value\": \"time_series\"},\n",
    "        {\"label\": \"Monthly-of-Year\", \"value\": \"monthly\"},\n",
    "        {\"label\": \"Month-of-Year Avg\", \"value\": \"month_of_year_avg\"},\n",
    "        {\"label\": \"Single Exceedance\", \"value\": \"single_exceedance\"},\n",
    "        {\"label\": \"Annual Exceedance\", \"value\": \"annual_exceedance\"}\n",
    "    ], value=\"time_series\"),\n",
    "    html.Div(id=\"plot-type-description\", style={\"marginTop\": \"10px\", \"fontStyle\": \"italic\", \"color\": \"#555\"}),\n",
    "    html.Div([\n",
    "        html.Label(\"Select Year (for Monthly Plot)\"),\n",
    "        dcc.Dropdown(id=\"year-dropdown\", options=year_options, value=years_in_data[0] if years_in_data else None)\n",
    "    ], id=\"year-container\", style={\"display\": \"none\"}),\n",
    "    html.Div([\n",
    "        html.Label(\"Select Water Year Type (1-5)\"),\n",
    "        dcc.Dropdown(id=\"wyt-dropdown\", options=water_year_type_options, value=[], multi=True)\n",
    "    ], id=\"wyt-container\", style={\"display\": \"none\"}),\n",
    "    html.Div([\n",
    "        html.Label(\"Select Month for Annual Exceedance\"),\n",
    "        dcc.Dropdown(id=\"month-dropdown\", options=month_options, value=9)\n",
    "    ], id=\"month-container\", style={\"display\": \"none\"}),\n",
    "    dcc.Graph(id=\"dynamic-plot\")\n",
    "])\n",
    "\n",
    "@app.callback(\n",
    "    [Output(\"dynamic-plot\", \"figure\"),\n",
    "     Output(\"year-container\", \"style\"),\n",
    "     Output(\"wyt-container\", \"style\"),\n",
    "     Output(\"month-container\", \"style\"),\n",
    "     Output(\"plot-type-description\", \"children\")],\n",
    "    [Input(\"variable-dropdown\", \"value\"),\n",
    "     Input(\"scenario-dropdown\", \"value\"),\n",
    "     Input(\"plot-type-dropdown\", \"value\"),\n",
    "     Input(\"year-dropdown\", \"value\"),\n",
    "     Input(\"wyt-dropdown\", \"value\"),\n",
    "     Input(\"month-dropdown\", \"value\")]\n",
    ")\n",
    "def update_plot(vars_selected, scenarios, plot_type, year, wyt, month):\n",
    "    show_year = {\"display\": \"block\"} if plot_type == \"monthly\" else {\"display\": \"none\"}\n",
    "    show_wyt = {\"display\": \"block\"} if plot_type == \"month_of_year_avg\" else {\"display\": \"none\"}\n",
    "    show_month = {\"display\": \"block\"} if plot_type == \"annual_exceedance\" else {\"display\": \"none\"}\n",
    "    description = plot_type_descriptions.get(plot_type, \"\")\n",
    "\n",
    "    if not scenarios or not vars_selected:\n",
    "        return go.Figure(), show_year, show_wyt, show_month, description\n",
    "\n",
    "    selected_units = {variable_units.get(v, \"unknown unit\") for v in vars_selected}\n",
    "    if len(selected_units) > 1:\n",
    "        fig = go.Figure()\n",
    "        fig.update_layout(\n",
    "            title=\"Unit Mismatch Detected\",\n",
    "            annotations=[{\n",
    "                \"text\": \"Selected variables have different units. Please select variables with the same unit.\",\n",
    "                \"xref\": \"paper\", \"yref\": \"paper\",\n",
    "                \"showarrow\": False, \"font\": {\"size\": 16}\n",
    "            }]\n",
    "        )\n",
    "        return fig, show_year, show_wyt, show_month, description\n",
    "\n",
    "    fig = go.Figure()\n",
    "    line_styles = get_line_styles()\n",
    "    colors = get_colors(scenarios)\n",
    "\n",
    "    for idx, v in enumerate(vars_selected):\n",
    "        style = line_styles[idx % len(line_styles)]\n",
    "        for s in scenarios:\n",
    "            col = find_col(df, v, s)\n",
    "            if not col:\n",
    "                continue\n",
    "            df_copy = df[[col]].copy()\n",
    "            if plot_type == \"monthly\":\n",
    "                df_copy['Year'] = df_copy.index.year\n",
    "                df_copy['Month'] = df_copy.index.month\n",
    "                df_copy = df_copy[df_copy['Year'] == year]\n",
    "                monthly_avg = df_copy.groupby('Month')[col].mean()\n",
    "                fig.add_trace(go.Scatter(\n",
    "                    x=monthly_avg.index, y=monthly_avg.values,\n",
    "                    mode='lines+markers', name=f\"{s} - {v}\",\n",
    "                    line=dict(color=colors[s], dash=style)\n",
    "                ))\n",
    "            elif plot_type == \"month_of_year_avg\":\n",
    "                df_copy = water_year_df[[col]].copy()\n",
    "                df_copy = filter_by_wyt_annual(df_copy, s, wyt, month=5)\n",
    "                df_copy['Month'] = df_copy.index.month\n",
    "                monthly_avg = df_copy.groupby('Month')[col].mean()\n",
    "                fig.add_trace(go.Scatter(\n",
    "                    x=monthly_avg.index, y=monthly_avg.values,\n",
    "                    mode='lines', name=f\"{s} - {v}\",\n",
    "                    line=dict(color=colors[s], dash=style)\n",
    "                ))\n",
    "            elif plot_type == \"single_exceedance\":\n",
    "                series = df_copy[col].dropna().sort_values(ascending=False)\n",
    "                exceedance_probs = np.arange(1, len(series)+1) / (len(series)+1)\n",
    "                fig.add_trace(go.Scatter(\n",
    "                    x=exceedance_probs, y=series.values,\n",
    "                    mode='lines', name=f\"{s} - {v}\",\n",
    "                    line=dict(color=colors[s], dash=style)\n",
    "                ))\n",
    "            elif plot_type == \"annual_exceedance\":\n",
    "                df_copy = df_copy[df_copy.index.month == month]\n",
    "                annual_sum = df_copy.resample(\"YE\").sum(min_count=1)\n",
    "                sorted_vals = annual_sum[col].dropna().sort_values(ascending=False)\n",
    "                exceed_probs = sorted_vals.rank(method=\"first\", ascending=False) / (1 + len(sorted_vals))\n",
    "                fig.add_trace(go.Scatter(\n",
    "                    x=exceed_probs, y=sorted_vals,\n",
    "                    mode='lines', name=f\"{s} - {v}\",\n",
    "                    line=dict(color=colors[s], dash=style)\n",
    "                ))\n",
    "            else:  # time_series\n",
    "                fig.add_trace(go.Scatter(\n",
    "                    x=df.index, y=df_copy[col],\n",
    "                    mode='lines', name=f\"{s} - {v}\",\n",
    "                    line=dict(color=colors[s], dash=style)\n",
    "                ))\n",
    "\n",
    "    unit = selected_units.pop()\n",
    "    fig.update_layout(\n",
    "        title=f\"{plot_type.replace('_', ' ').title()} Plot for Selected Variables\",\n",
    "        xaxis_title=\"Date\" if plot_type in [\"time_series\", \"monthly\", \"month_of_year_avg\"] else \"Exceedance Probability\",\n",
    "        yaxis_title=f\"Value ({unit})\"\n",
    "    )\n",
    "    return fig, show_year, show_wyt, show_month, description\n",
    "\n",
    "if __name__ == '__main__':\n",
    "    app.run(debug=True)\n",
    "\n"
   ]
  },
  {
   "cell_type": "code",
   "execution_count": null,
   "id": "5b4f1287-19cf-444b-a9f6-053b869c14f5",
   "metadata": {},
   "outputs": [],
   "source": []
  }
 ],
 "metadata": {
  "kernelspec": {
   "display_name": "Python 3 (ipykernel)",
   "language": "python",
   "name": "python3"
  },
  "language_info": {
   "codemirror_mode": {
    "name": "ipython",
    "version": 3
   },
   "file_extension": ".py",
   "mimetype": "text/x-python",
   "name": "python",
   "nbconvert_exporter": "python",
   "pygments_lexer": "ipython3",
   "version": "3.12.7"
  }
 },
 "nbformat": 4,
 "nbformat_minor": 5
}
