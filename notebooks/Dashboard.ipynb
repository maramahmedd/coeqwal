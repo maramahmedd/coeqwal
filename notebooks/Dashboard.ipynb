{
 "cells": [
  {
   "cell_type": "code",
   "execution_count": 46,
   "id": "b1e4d95c-967e-4a72-b51a-dadd13b71fde",
   "metadata": {},
   "outputs": [
    {
     "name": "stdout",
     "output_type": "stream",
     "text": [
      "Defaulting to user installation because normal site-packages is not writeable\n",
      "Requirement already satisfied: openpyxl in /Users/rain/Library/Python/3.9/lib/python/site-packages (3.1.5)\n",
      "Requirement already satisfied: et-xmlfile in /Users/rain/Library/Python/3.9/lib/python/site-packages (from openpyxl) (2.0.0)\n",
      "\n",
      "\u001b[1m[\u001b[0m\u001b[34;49mnotice\u001b[0m\u001b[1;39;49m]\u001b[0m\u001b[39;49m A new release of pip is available: \u001b[0m\u001b[31;49m25.0.1\u001b[0m\u001b[39;49m -> \u001b[0m\u001b[32;49m25.1.1\u001b[0m\n",
      "\u001b[1m[\u001b[0m\u001b[34;49mnotice\u001b[0m\u001b[1;39;49m]\u001b[0m\u001b[39;49m To update, run: \u001b[0m\u001b[32;49m/Library/Developer/CommandLineTools/usr/bin/python3 -m pip install --upgrade pip\u001b[0m\n",
      "Note: you may need to restart the kernel to use updated packages.\n"
     ]
    }
   ],
   "source": [
    "pip install openpyxl"
   ]
  },
  {
   "cell_type": "code",
   "execution_count": 47,
   "id": "0720049c-a144-4ca9-9f4e-8fc11fce354c",
   "metadata": {},
   "outputs": [
    {
     "name": "stdout",
     "output_type": "stream",
     "text": [
      "Defaulting to user installation because normal site-packages is not writeable\n",
      "Requirement already satisfied: plotly in /Users/rain/Library/Python/3.9/lib/python/site-packages (6.0.0)\n",
      "Requirement already satisfied: narwhals>=1.15.1 in /Users/rain/Library/Python/3.9/lib/python/site-packages (from plotly) (1.27.1)\n",
      "Requirement already satisfied: packaging in /Users/rain/Library/Python/3.9/lib/python/site-packages (from plotly) (24.2)\n",
      "\n",
      "\u001b[1m[\u001b[0m\u001b[34;49mnotice\u001b[0m\u001b[1;39;49m]\u001b[0m\u001b[39;49m A new release of pip is available: \u001b[0m\u001b[31;49m25.0.1\u001b[0m\u001b[39;49m -> \u001b[0m\u001b[32;49m25.1.1\u001b[0m\n",
      "\u001b[1m[\u001b[0m\u001b[34;49mnotice\u001b[0m\u001b[1;39;49m]\u001b[0m\u001b[39;49m To update, run: \u001b[0m\u001b[32;49m/Library/Developer/CommandLineTools/usr/bin/python3 -m pip install --upgrade pip\u001b[0m\n",
      "Note: you may need to restart the kernel to use updated packages.\n"
     ]
    }
   ],
   "source": [
    "pip install plotly"
   ]
  },
  {
   "cell_type": "code",
   "execution_count": 48,
   "id": "a57132b2-85b2-4c25-99a0-24ec2b82cccc",
   "metadata": {},
   "outputs": [
    {
     "name": "stdout",
     "output_type": "stream",
     "text": [
      "Defaulting to user installation because normal site-packages is not writeable\n",
      "Requirement already satisfied: pandas in /Users/rain/Library/Python/3.9/lib/python/site-packages (2.2.3)\n",
      "Requirement already satisfied: numpy>=1.22.4 in /Users/rain/Library/Python/3.9/lib/python/site-packages (from pandas) (2.0.2)\n",
      "Requirement already satisfied: python-dateutil>=2.8.2 in /Users/rain/Library/Python/3.9/lib/python/site-packages (from pandas) (2.9.0.post0)\n",
      "Requirement already satisfied: pytz>=2020.1 in /Users/rain/Library/Python/3.9/lib/python/site-packages (from pandas) (2025.1)\n",
      "Requirement already satisfied: tzdata>=2022.7 in /Users/rain/Library/Python/3.9/lib/python/site-packages (from pandas) (2025.1)\n",
      "Requirement already satisfied: six>=1.5 in /Library/Developer/CommandLineTools/Library/Frameworks/Python3.framework/Versions/3.9/lib/python3.9/site-packages (from python-dateutil>=2.8.2->pandas) (1.15.0)\n",
      "\n",
      "\u001b[1m[\u001b[0m\u001b[34;49mnotice\u001b[0m\u001b[1;39;49m]\u001b[0m\u001b[39;49m A new release of pip is available: \u001b[0m\u001b[31;49m25.0.1\u001b[0m\u001b[39;49m -> \u001b[0m\u001b[32;49m25.1.1\u001b[0m\n",
      "\u001b[1m[\u001b[0m\u001b[34;49mnotice\u001b[0m\u001b[1;39;49m]\u001b[0m\u001b[39;49m To update, run: \u001b[0m\u001b[32;49m/Library/Developer/CommandLineTools/usr/bin/python3 -m pip install --upgrade pip\u001b[0m\n",
      "Note: you may need to restart the kernel to use updated packages.\n"
     ]
    }
   ],
   "source": [
    "pip install pandas"
   ]
  },
  {
   "cell_type": "code",
   "execution_count": 49,
   "id": "4bbe94bc-b45f-4fa0-bd23-bb3e10699490",
   "metadata": {},
   "outputs": [
    {
     "name": "stdout",
     "output_type": "stream",
     "text": [
      "Defaulting to user installation because normal site-packages is not writeable\n",
      "Requirement already satisfied: seaborn in /Users/rain/Library/Python/3.9/lib/python/site-packages (0.13.2)\n",
      "Requirement already satisfied: numpy!=1.24.0,>=1.20 in /Users/rain/Library/Python/3.9/lib/python/site-packages (from seaborn) (2.0.2)\n",
      "Requirement already satisfied: pandas>=1.2 in /Users/rain/Library/Python/3.9/lib/python/site-packages (from seaborn) (2.2.3)\n",
      "Requirement already satisfied: matplotlib!=3.6.1,>=3.4 in /Users/rain/Library/Python/3.9/lib/python/site-packages (from seaborn) (3.9.4)\n",
      "Requirement already satisfied: contourpy>=1.0.1 in /Users/rain/Library/Python/3.9/lib/python/site-packages (from matplotlib!=3.6.1,>=3.4->seaborn) (1.3.0)\n",
      "Requirement already satisfied: cycler>=0.10 in /Users/rain/Library/Python/3.9/lib/python/site-packages (from matplotlib!=3.6.1,>=3.4->seaborn) (0.12.1)\n",
      "Requirement already satisfied: fonttools>=4.22.0 in /Users/rain/Library/Python/3.9/lib/python/site-packages (from matplotlib!=3.6.1,>=3.4->seaborn) (4.56.0)\n",
      "Requirement already satisfied: kiwisolver>=1.3.1 in /Users/rain/Library/Python/3.9/lib/python/site-packages (from matplotlib!=3.6.1,>=3.4->seaborn) (1.4.7)\n",
      "Requirement already satisfied: packaging>=20.0 in /Users/rain/Library/Python/3.9/lib/python/site-packages (from matplotlib!=3.6.1,>=3.4->seaborn) (24.2)\n",
      "Requirement already satisfied: pillow>=8 in /Users/rain/Library/Python/3.9/lib/python/site-packages (from matplotlib!=3.6.1,>=3.4->seaborn) (11.1.0)\n",
      "Requirement already satisfied: pyparsing>=2.3.1 in /Users/rain/Library/Python/3.9/lib/python/site-packages (from matplotlib!=3.6.1,>=3.4->seaborn) (3.2.1)\n",
      "Requirement already satisfied: python-dateutil>=2.7 in /Users/rain/Library/Python/3.9/lib/python/site-packages (from matplotlib!=3.6.1,>=3.4->seaborn) (2.9.0.post0)\n",
      "Requirement already satisfied: importlib-resources>=3.2.0 in /Users/rain/Library/Python/3.9/lib/python/site-packages (from matplotlib!=3.6.1,>=3.4->seaborn) (6.5.2)\n",
      "Requirement already satisfied: pytz>=2020.1 in /Users/rain/Library/Python/3.9/lib/python/site-packages (from pandas>=1.2->seaborn) (2025.1)\n",
      "Requirement already satisfied: tzdata>=2022.7 in /Users/rain/Library/Python/3.9/lib/python/site-packages (from pandas>=1.2->seaborn) (2025.1)\n",
      "Requirement already satisfied: zipp>=3.1.0 in /Users/rain/Library/Python/3.9/lib/python/site-packages (from importlib-resources>=3.2.0->matplotlib!=3.6.1,>=3.4->seaborn) (3.21.0)\n",
      "Requirement already satisfied: six>=1.5 in /Library/Developer/CommandLineTools/Library/Frameworks/Python3.framework/Versions/3.9/lib/python3.9/site-packages (from python-dateutil>=2.7->matplotlib!=3.6.1,>=3.4->seaborn) (1.15.0)\n",
      "\n",
      "\u001b[1m[\u001b[0m\u001b[34;49mnotice\u001b[0m\u001b[1;39;49m]\u001b[0m\u001b[39;49m A new release of pip is available: \u001b[0m\u001b[31;49m25.0.1\u001b[0m\u001b[39;49m -> \u001b[0m\u001b[32;49m25.1.1\u001b[0m\n",
      "\u001b[1m[\u001b[0m\u001b[34;49mnotice\u001b[0m\u001b[1;39;49m]\u001b[0m\u001b[39;49m To update, run: \u001b[0m\u001b[32;49m/Library/Developer/CommandLineTools/usr/bin/python3 -m pip install --upgrade pip\u001b[0m\n",
      "Note: you may need to restart the kernel to use updated packages.\n"
     ]
    }
   ],
   "source": [
    "pip install seaborn"
   ]
  },
  {
   "cell_type": "code",
   "execution_count": 50,
   "id": "2ae42434-6e01-4026-8d61-d7554185f3d7",
   "metadata": {},
   "outputs": [
    {
     "name": "stdout",
     "output_type": "stream",
     "text": [
      "Defaulting to user installation because normal site-packages is not writeable\n",
      "Requirement already satisfied: dash in /Users/rain/Library/Python/3.9/lib/python/site-packages (2.18.2)\n",
      "Requirement already satisfied: Flask<3.1,>=1.0.4 in /Users/rain/Library/Python/3.9/lib/python/site-packages (from dash) (3.0.3)\n",
      "Requirement already satisfied: Werkzeug<3.1 in /Users/rain/Library/Python/3.9/lib/python/site-packages (from dash) (3.0.6)\n",
      "Requirement already satisfied: plotly>=5.0.0 in /Users/rain/Library/Python/3.9/lib/python/site-packages (from dash) (6.0.0)\n",
      "Requirement already satisfied: dash-html-components==2.0.0 in /Users/rain/Library/Python/3.9/lib/python/site-packages (from dash) (2.0.0)\n",
      "Requirement already satisfied: dash-core-components==2.0.0 in /Users/rain/Library/Python/3.9/lib/python/site-packages (from dash) (2.0.0)\n",
      "Requirement already satisfied: dash-table==5.0.0 in /Users/rain/Library/Python/3.9/lib/python/site-packages (from dash) (5.0.0)\n",
      "Requirement already satisfied: importlib-metadata in /Users/rain/Library/Python/3.9/lib/python/site-packages (from dash) (8.6.1)\n",
      "Requirement already satisfied: typing-extensions>=4.1.1 in /Users/rain/Library/Python/3.9/lib/python/site-packages (from dash) (4.12.2)\n",
      "Requirement already satisfied: requests in /Users/rain/Library/Python/3.9/lib/python/site-packages (from dash) (2.32.3)\n",
      "Requirement already satisfied: retrying in /Users/rain/Library/Python/3.9/lib/python/site-packages (from dash) (1.3.4)\n",
      "Requirement already satisfied: nest-asyncio in /Users/rain/Library/Python/3.9/lib/python/site-packages (from dash) (1.6.0)\n",
      "Requirement already satisfied: setuptools in /Users/rain/Library/Python/3.9/lib/python/site-packages (from dash) (78.1.0)\n",
      "Requirement already satisfied: Jinja2>=3.1.2 in /Users/rain/Library/Python/3.9/lib/python/site-packages (from Flask<3.1,>=1.0.4->dash) (3.1.5)\n",
      "Requirement already satisfied: itsdangerous>=2.1.2 in /Users/rain/Library/Python/3.9/lib/python/site-packages (from Flask<3.1,>=1.0.4->dash) (2.2.0)\n",
      "Requirement already satisfied: click>=8.1.3 in /Users/rain/Library/Python/3.9/lib/python/site-packages (from Flask<3.1,>=1.0.4->dash) (8.1.8)\n",
      "Requirement already satisfied: blinker>=1.6.2 in /Users/rain/Library/Python/3.9/lib/python/site-packages (from Flask<3.1,>=1.0.4->dash) (1.9.0)\n",
      "Requirement already satisfied: zipp>=3.20 in /Users/rain/Library/Python/3.9/lib/python/site-packages (from importlib-metadata->dash) (3.21.0)\n",
      "Requirement already satisfied: narwhals>=1.15.1 in /Users/rain/Library/Python/3.9/lib/python/site-packages (from plotly>=5.0.0->dash) (1.27.1)\n",
      "Requirement already satisfied: packaging in /Users/rain/Library/Python/3.9/lib/python/site-packages (from plotly>=5.0.0->dash) (24.2)\n",
      "Requirement already satisfied: MarkupSafe>=2.1.1 in /Users/rain/Library/Python/3.9/lib/python/site-packages (from Werkzeug<3.1->dash) (3.0.2)\n",
      "Requirement already satisfied: charset-normalizer<4,>=2 in /Users/rain/Library/Python/3.9/lib/python/site-packages (from requests->dash) (3.4.1)\n",
      "Requirement already satisfied: idna<4,>=2.5 in /Users/rain/Library/Python/3.9/lib/python/site-packages (from requests->dash) (3.10)\n",
      "Requirement already satisfied: urllib3<3,>=1.21.1 in /Users/rain/Library/Python/3.9/lib/python/site-packages (from requests->dash) (1.26.20)\n",
      "Requirement already satisfied: certifi>=2017.4.17 in /Users/rain/Library/Python/3.9/lib/python/site-packages (from requests->dash) (2025.1.31)\n",
      "Requirement already satisfied: six>=1.7.0 in /Library/Developer/CommandLineTools/Library/Frameworks/Python3.framework/Versions/3.9/lib/python3.9/site-packages (from retrying->dash) (1.15.0)\n",
      "\n",
      "\u001b[1m[\u001b[0m\u001b[34;49mnotice\u001b[0m\u001b[1;39;49m]\u001b[0m\u001b[39;49m A new release of pip is available: \u001b[0m\u001b[31;49m25.0.1\u001b[0m\u001b[39;49m -> \u001b[0m\u001b[32;49m25.1.1\u001b[0m\n",
      "\u001b[1m[\u001b[0m\u001b[34;49mnotice\u001b[0m\u001b[1;39;49m]\u001b[0m\u001b[39;49m To update, run: \u001b[0m\u001b[32;49m/Library/Developer/CommandLineTools/usr/bin/python3 -m pip install --upgrade pip\u001b[0m\n",
      "Note: you may need to restart the kernel to use updated packages.\n"
     ]
    }
   ],
   "source": [
    "pip install dash"
   ]
  },
  {
   "cell_type": "code",
   "execution_count": 51,
   "id": "9d9e3e85-41c4-4a54-8a01-fca105043c30",
   "metadata": {},
   "outputs": [],
   "source": [
    "# Import standard libraries\n",
    "import os\n",
    "from contextlib import redirect_stdout\n",
    "\n",
    "import sys\n",
    "# append coeqwal packages to path\n",
    "sys.path.append('./coeqwalpackage')\n",
    "\n",
    "import numpy as np\n",
    "import pandas as pd\n",
    "import datetime as dt\n",
    "import re\n",
    "import plotly.graph_objects as go\n",
    "import dash\n",
    "from dash import html, dcc\n",
    "from dash.dependencies import Input, Output"
   ]
  },
  {
   "cell_type": "code",
   "execution_count": 52,
   "id": "94383115-b956-4613-9319-8bfeea53b518",
   "metadata": {},
   "outputs": [],
   "source": [
    "# Import custom libraries\n",
    "# Note: on my computer the next import doesn't work the first time I call it, why? If I re-run the cell, then it is ok. MUST DEBUG\n",
    "from coeqwalpackage.metrics import *\n",
    "import cqwlutils as cu\n",
    "import plotting as pu"
   ]
  },
  {
   "cell_type": "code",
   "execution_count": 53,
   "id": "deac8fd7-b1da-4432-86fa-fea9a0154067",
   "metadata": {},
   "outputs": [],
   "source": [
    "CtrlFile = 'CalSim3DataExtractionInitFile_v4.xlsx'\n",
    "CtrlTab = 'Init'\n",
    "ScenarioListFile, ScenarioListTab, ScenarioListPath, DVDssNamesOutPath, SVDssNamesOutPath, ScenarioIndicesOutPath, DssDirsOutPath, VarListPath, VarListFile, VarListTab, VarOutPath, DataOutPath, ConvertDataOutPath, ExtractionSubPath, DemandDeliverySubPath, ModelSubPath, GroupDataDirPath, ScenarioDir, DVDssMin, DVDssMax, SVDssMin, SVDssMax, NameMin, NameMax, DirMin, DirMax, IndexMin, IndexMax, StartMin, StartMax, EndMin, EndMax, VarMin, VarMax, DemandFilePath, DemandFileName, DemandFileTab, DemMin, DemMax, InflowOutSubPath, InflowFilePath, InflowFileName, InflowFileTab, InflowMin, InflowMax = cu.read_init_file(CtrlFile, CtrlTab)"
   ]
  },
  {
   "cell_type": "code",
   "execution_count": 54,
   "id": "202aba41-64b2-40cd-b262-2657bac54344",
   "metadata": {},
   "outputs": [],
   "source": [
    "df, dss_names = read_in_df(ConvertDataOutPath,DVDssNamesOutPath)"
   ]
  },
  {
   "cell_type": "code",
   "execution_count": 55,
   "id": "60724ba9-f9f2-46e8-9241-6a7ed37f9292",
   "metadata": {},
   "outputs": [
    {
     "name": "stderr",
     "output_type": "stream",
     "text": [
      "/Users/rain/Desktop/DSP/coeqwal/notebooks/coeqwalpackage/metrics.py:175: PerformanceWarning: dropping on a non-lexsorted multi-index without a level parameter may impact performance.\n",
      "  return df_copy.drop([\"Date\", \"Year\", \"Month\"], axis=1)\n"
     ]
    }
   ],
   "source": [
    "df = add_water_year_column(df)"
   ]
  },
  {
   "cell_type": "code",
   "execution_count": 56,
   "id": "085a8936-80e1-4a40-82d7-8815cdf38d8d",
   "metadata": {},
   "outputs": [],
   "source": [
    "metrics_path = GroupDataDirPath + \"/metrics_output\"\n",
    "if not os.path.exists(metrics_path):\n",
    "    os.makedirs(metrics_path)\n",
    "\n",
    "plots_path = GroupDataDirPath + \"/plots_output\"\n",
    "if not os.path.exists(plots_path):\n",
    "    os.makedirs(plots_path)\n",
    "    "
   ]
  },
  {
   "cell_type": "code",
   "execution_count": 57,
   "id": "d7678886-bd12-4928-8280-c5119b19a6e2",
   "metadata": {},
   "outputs": [],
   "source": [
    "drought_wys = [\n",
    "    1924,1925,1926,1929,1930,1931,1932,1933,1934,\n",
    "    1939,1944,1945,1947,1948,1949,1950,1955,1960,\n",
    "    1961,1962,1964,1976,1977,1979,1981,1987,1988,\n",
    "    1989,1990,1991,1992,1994,2001,2008,2009,2013,\n",
    "    2014,2015,2020,2021\n",
    "]"
   ]
  },
  {
   "cell_type": "code",
   "execution_count": 58,
   "id": "fce22f30-660b-4612-bac1-b61c35e059d4",
   "metadata": {},
   "outputs": [],
   "source": [
    "def get_scenario_styles(studies):\n",
    "    \"\"\"\n",
    "    Given a list (or tuple) of scenario numbers, return an appropriate dictionary\n",
    "    specifying line color, style, and label. Extend as needed for more scenarios.\n",
    "    \"\"\"\n",
    "    scenario_tuple = tuple(studies)\n",
    "    if scenario_tuple == (2, 11):\n",
    "        return {\n",
    "            \"s0002\": {'color': 'black', 'linestyle': 'solid', 'label': 's0002 Baseline'},\n",
    "            \"s0011\": {'color': 'red', 'linestyle': 'dash', 'label': 's0011 TUCP'}\n",
    "        }\n",
    "    elif scenario_tuple == (11, 12):\n",
    "        return {\n",
    "            \"s0011\": {'color': 'black', 'linestyle': 'solid', 'label': 's0011 Baseline (TUCP)'},\n",
    "            \"s0012\": {'color': 'red', 'linestyle': 'dash', 'label': 's0012 SGMA'}\n",
    "        }\n",
    "    elif scenario_tuple == (11, 13):\n",
    "        return {\n",
    "            \"s0011\": {'color': 'black', 'linestyle': 'solid', 'label': 's0011 Baseline (TUCP)'},\n",
    "            \"s0013\": {'color': 'red', 'linestyle': 'dot', 'label': 's0013 Future Baseline'}\n",
    "        }\n",
    "    else:\n",
    "        colors = ['black', 'red', 'blue', 'green', 'orange']\n",
    "        linestyles = ['solid', 'dash', 'dot', 'longdash', 'dashdot']\n",
    "        style_dict = {}\n",
    "        for i, s in enumerate(studies):\n",
    "            style_dict[s] = {\n",
    "                'color': colors[i % len(colors)],\n",
    "                'linestyle': linestyles[i % len(linestyles)],  # Use valid Plotly styles\n",
    "                'label': s  # Fix: Remove extra 's' prefix\n",
    "            }\n",
    "        return style_dict\n"
   ]
  },
  {
   "cell_type": "code",
   "execution_count": 59,
   "id": "c95515df-ce7e-4792-b8f4-c5d4c18500f9",
   "metadata": {},
   "outputs": [],
   "source": [
    "variables = [\n",
    "    \"NOD_STORAGE_\", \"DEL_NOD_AG_\", \"DEL_NOD_MI_\",\n",
    "    \"C_SAC041_\", \"C_SJR070_\", \"NDO_\",\n",
    "    \"X2_PRV_KM_\", \"TOTAL_EXPORTS_\",\n",
    "    \"DEL_SOD_AG_\", \"SOD_STORAGE_\", \"DEL_SOD_MI_\"\n",
    "]\n",
    "\n",
    "scenario_comps = [[2,11],[11,12],[11,13]]"
   ]
  },
  {
   "cell_type": "code",
   "execution_count": 60,
   "id": "d7ae7ebb-c63f-452b-ab0f-295d976fc10c",
   "metadata": {},
   "outputs": [
    {
     "name": "stdout",
     "output_type": "stream",
     "text": [
      "['CALSIM_COREQSACDV_s0001_FLOW_1MON_L2020A_PER-AVER_CFS', 'CALSIM_CO_EC_MONTH_s0001_SALINITY_1MON_L2020A_PER-AVER_UMHOS/CM', 'CALSIM_C_AMR004_s0001_CHANNEL_1MON_L2020A_PER-AVER_CFS', 'CALSIM_C_AMR004_ADD_s0001_FLOW-ADDITIONAL-INSTREAM_1MON_L2020A_PER-AVER_CFS', 'CALSIM_C_AMR004_MIF_s0001_FLOW-MIN-INSTREAM_1MON_L2020A_PER-AVER_CFS', 'CALSIM_C_CAA003_s0001_CHANNEL_1MON_L2020A_PER-AVER_CFS', 'CALSIM_C_CAA003_CVP_s0001_FLOW-DELIVERY_1MON_L2020A_PER-AVER_CFS', 'CALSIM_C_CAA003_SWP_s0001_FLOW-DELIVERY_1MON_L2020A_PER-AVER_CFS', 'CALSIM_C_CAA003_TD_s0001_FLOW-DELIVERY_1MON_L2020A_PER-AVER_CFS', 'CALSIM_C_CHW017_s0001_CHANNEL_1MON_L2020A_PER-AVER_CFS', 'CALSIM_C_CLV004_s0001_CHANNEL_1MON_L2020A_PER-AVER_CFS', 'CALSIM_C_DMC000_s0001_CHANNEL_1MON_L2020A_PER-AVER_CFS', 'CALSIM_C_DMC000_TD_s0001_FLOW-DELIVERY_1MON_L2020A_PER-AVER_CFS', 'CALSIM_C_DMC003_s0001_CHANNEL_1MON_L2020A_PER-AVER_CFS', 'CALSIM_C_EBP016_s0001_CHANNEL_1MON_L2020A_PER-AVER_CFS', 'CALSIM_C_FOLSM_s0001_CHANNEL_1MON_L2020A_PER-AVER_CFS', 'CALSIM_C_FTR003_s0001_CHANNEL_1MON_L2020A_PER-AVER_CFS', 'CALSIM_C_FTR003_MIF_s0001_FLOW-MIN-INSTREAM_1MON_L2020A_PER-AVER_CFS', 'CALSIM_C_FTR012_s0001_CHANNEL_1MON_L2020A_PER-AVER_CFS', 'CALSIM_C_FTR028_s0001_CHANNEL_1MON_L2020A_PER-AVER_CFS']\n"
     ]
    }
   ],
   "source": [
    "df.columns = ['_'.join(map(str, col)) for col in df.columns]\n",
    "\n",
    "print(df.columns.tolist()[:20]) \n"
   ]
  },
  {
   "cell_type": "code",
   "execution_count": 61,
   "id": "9815224a-ed9d-4248-a084-c28fec5cd4df",
   "metadata": {},
   "outputs": [
    {
     "name": "stdout",
     "output_type": "stream",
     "text": [
      "['s0001', 's0002', 's0003', 's0004', 's0005', 's0006', 's0007', 's0008', 's0009', 's0010', 's0011', 's0012', 's0013', 's0014', 's0015', 's0016', 's0018']\n"
     ]
    }
   ],
   "source": [
    "original_columns = df.columns.tolist()\n",
    "\n",
    "s_numbers = set()\n",
    "for col in original_columns:\n",
    "    matches = re.findall(r's\\d{4,}', col)  \n",
    "    s_numbers.update(matches) \n",
    "\n",
    "# Convert to a sorted list\n",
    "s_numbers_list = sorted(s_numbers)\n",
    "\n",
    "print(s_numbers_list)"
   ]
  },
  {
   "cell_type": "markdown",
   "id": "043f72d6-0dcb-4e7d-a523-051998d85cf2",
   "metadata": {},
   "source": [
    "## Interactive Dashboard"
   ]
  },
  {
   "cell_type": "markdown",
   "id": "cd8f694a-49eb-43a7-8ecf-44831d7f0263",
   "metadata": {},
   "source": [
    "### Time Series\n",
    "Shows how the selected variable changes over time for each scenario.\n",
    "\n",
    "### Monthly-of-Year\n",
    "Displays the monthly average for a selected year.\n",
    "\n",
    "### Single Exceedance\n",
    "Shows the probability that a value will be equaled or exceeded.\n",
    "\n",
    "### Annual Exceedance\n",
    "Shows how often the selected month's total value exceeds a given threshold across all years. Each year’s data for the chosen month is summed (e.g., total flow in April each year), and the annual values are ranked from highest to lowest. From these ranks, exceedance probabilities are calculated to show how frequently high values occur.\n",
    "\n",
    "### Month-of-Year Avg\n",
    "Averages each calendar month across all years, optionally filtered by Water Year Type. Water Year Types classify each year based on how wet or dry it was. The scale ranges from 1 (wettest) to 5 (driest)"
   ]
  },
  {
   "cell_type": "code",
   "execution_count": 62,
   "id": "505c10c9-e6c3-4e29-8803-d21b77958415",
   "metadata": {},
   "outputs": [
    {
     "data": {
      "text/html": [
       "\n",
       "        <iframe\n",
       "            width=\"100%\"\n",
       "            height=\"650\"\n",
       "            src=\"http://127.0.0.1:8050/\"\n",
       "            frameborder=\"0\"\n",
       "            allowfullscreen\n",
       "            \n",
       "        ></iframe>\n",
       "        "
      ],
      "text/plain": [
       "<IPython.lib.display.IFrame at 0x1749e3df0>"
      ]
     },
     "metadata": {},
     "output_type": "display_data"
    }
   ],
   "source": [
    "def add_water_year_column(df):\n",
    "    df_copy = df.copy().sort_index()\n",
    "    df_copy['Date'] = pd.to_datetime(df_copy.index)\n",
    "    df_copy['Year'] = df_copy['Date'].dt.year\n",
    "    df_copy['Month'] = df_copy['Date'].dt.month\n",
    "    df_copy['WaterYear'] = np.where(df_copy['Month'] >= 10, df_copy['Year'] + 1, df_copy['Year'])\n",
    "    return df_copy.drop([\"Date\", \"Year\", \"Month\"], axis=1)\n",
    "\n",
    "water_year_df = add_water_year_column(df)\n",
    "\n",
    "# Extract variable names from DataFrame columns\n",
    "pattern = re.compile(r'CALSIM_([^_]+(?:_[^_]+)*)_s\\d{4}')\n",
    "variables = sorted(set(\n",
    "    match.group(1)\n",
    "    for col in df.columns\n",
    "    for match in [pattern.search(col)]\n",
    "    if match\n",
    "))\n",
    "\n",
    "\n",
    "scenarios = sorted(set(re.findall(r's\\d{4,}', ' '.join(df.columns))))\n",
    "default_scenario = [scenarios[0]] if scenarios else []\n",
    "\n",
    "years_in_data = sorted(df.index.year.unique())\n",
    "drought_years = {\n",
    "    1924, 1925, 1926, 1929, 1930, 1931, 1932, 1933, 1934, 1939,\n",
    "    1944, 1945, 1947, 1948, 1949, 1950, 1955, 1960, 1961, 1962, 1964,\n",
    "    1976, 1977, 1979, 1981, 1987, 1988, 1989, 1990, 1991, 1992, 1994,\n",
    "    2001, 2008, 2009, 2013, 2014, 2015, 2020, 2021\n",
    "}\n",
    "\n",
    "year_options = [{\"label\": f\"{y} {'(Drought)' if y in drought_years else ''}\", \"value\": y} for y in years_in_data]\n",
    "water_year_type_options = [{\"label\": str(i), \"value\": i} for i in range(1, 6)]\n",
    "month_options = [{\"label\": \"April\", \"value\": 4}, {\"label\": \"September\", \"value\": 9}]\n",
    "\n",
    "def find_col(df, variable, scenario):\n",
    "    matches = [col for col in df.columns if variable in col and scenario in col]\n",
    "    return matches[0] if matches else None\n",
    "\n",
    "def find_wyt_col(df, scenario):\n",
    "    matches = [col for col in df.columns if f\"CALSIM_WYT_SAC__{scenario}\" in col and \"WATERYEARTYPE\" in col]\n",
    "    return matches[0] if matches else None\n",
    "\n",
    "def get_colors(scenarios):\n",
    "    base = [\"red\", \"blue\", \"green\", \"orange\", \"purple\", \"brown\", \"cyan\", \"magenta\", \"gray\", \"black\"]\n",
    "    return {s: base[i % len(base)] for i, s in enumerate(scenarios)}\n",
    "\n",
    "def filter_by_wyt_annual(df_col, scenario, wyt_list, month=5):\n",
    "    if not wyt_list:\n",
    "        return df_col\n",
    "\n",
    "    wyt_col = find_wyt_col(df, scenario)\n",
    "    if wyt_col is None:\n",
    "        return df_col\n",
    "\n",
    "    working_df = df[[wyt_col]].copy()\n",
    "    working_df['WaterYear'] = water_year_df['WaterYear']\n",
    "    working_df['Month'] = df.index.month\n",
    "\n",
    "    filtered = working_df[working_df['Month'] == month].groupby('WaterYear').first()\n",
    "    selected_years = filtered[filtered[wyt_col].isin(wyt_list)].index\n",
    "\n",
    "    df_col = df_col.copy()\n",
    "    df_col['WaterYear'] = water_year_df['WaterYear']\n",
    "    df_col = df_col[df_col['WaterYear'].isin(selected_years)]\n",
    "    return df_col.drop(columns='WaterYear')\n",
    "\n",
    "def generate_time_series_plot(df, selected_variable, selected_scenarios):\n",
    "    fig = go.Figure()\n",
    "    scenario_colors = get_colors(selected_scenarios)\n",
    "\n",
    "    for scenario in selected_scenarios:\n",
    "        matching_cols = [col for col in df.columns if scenario in col and selected_variable in col]\n",
    "        if not matching_cols:\n",
    "            continue\n",
    "        scenario_col = matching_cols[0]\n",
    "\n",
    "        fig.add_trace(go.Scatter(\n",
    "            x=df.index,\n",
    "            y=df[scenario_col],\n",
    "            mode='lines',\n",
    "            name=scenario,\n",
    "            line=dict(color=scenario_colors[scenario])\n",
    "        ))\n",
    "\n",
    "    fig.update_layout(\n",
    "        title=f\"Time Series Plot for {selected_variable}\",\n",
    "        xaxis_title=\"Date\",\n",
    "        yaxis_title=\"Value\",\n",
    "        hovermode=\"x\"\n",
    "    )\n",
    "    return fig\n",
    "\n",
    "def generate_month_of_year_avg_plot(df, var, scenarios, wyt_list):\n",
    "    fig = go.Figure()\n",
    "    colors = get_colors(scenarios)\n",
    "    for s in scenarios:\n",
    "        col = find_col(df, var, s)\n",
    "        if col:\n",
    "            df_copy = water_year_df[[col]].copy()\n",
    "            df_copy = filter_by_wyt_annual(df_copy, s, wyt_list, month=5)\n",
    "            df_copy['Month'] = df_copy.index.month\n",
    "            monthly_avg = df_copy.groupby('Month')[col].mean()\n",
    "            fig.add_trace(go.Scatter(x=monthly_avg.index, y=monthly_avg.values,\n",
    "                                     mode='lines', name=s, line=dict(color=colors[s])))\n",
    "    fig.update_layout(title=f\"Month-of-Year Average for {var}\",\n",
    "                      xaxis_title=\"Month\",\n",
    "                      yaxis_title=\"Average Value\")\n",
    "    return fig\n",
    "\n",
    "def generate_single_exceedance_plot(df, var, scenarios):\n",
    "    fig = go.Figure()\n",
    "    colors = get_colors(scenarios)\n",
    "    for s in scenarios:\n",
    "        col = find_col(df, var, s)\n",
    "        if col:\n",
    "            series = df[col].dropna().sort_values(ascending=False)\n",
    "            exceedance_probs = np.arange(1, len(series)+1) / (len(series)+1)\n",
    "            fig.add_trace(go.Scatter(x=exceedance_probs, y=series.values, mode=\"lines\", name=s, line=dict(color=colors[s])))\n",
    "    fig.update_layout(title=f\"Single Exceedance Plot for {var}\",\n",
    "                      xaxis_title=\"Exceedance Probability\",\n",
    "                      yaxis_title=\"Value\")\n",
    "    return fig\n",
    "\n",
    "def generate_annual_exceedance_plot(df, var, scenarios, month):\n",
    "    fig = go.Figure()\n",
    "    colors = get_colors(scenarios)\n",
    "    for s in scenarios:\n",
    "        col = find_col(df, var, s)\n",
    "        if col:\n",
    "            df_copy = df[[col]].copy()\n",
    "            df_copy = df_copy[df_copy.index.month == month]\n",
    "            annual_sum = df_copy.resample(\"YE\").sum(min_count=1)\n",
    "            sorted_vals = annual_sum[col].dropna().sort_values(ascending=False)\n",
    "            exceed_probs = sorted_vals.rank(method=\"first\", ascending=False) / (1 + len(sorted_vals))\n",
    "            fig.add_trace(go.Scatter(x=exceed_probs, y=sorted_vals, mode=\"lines\", name=s,\n",
    "                                     line=dict(color=colors[s])))\n",
    "    fig.update_layout(title=f\"Annual Exceedance Plot for {var} (Month: {month})\",\n",
    "                      xaxis_title=\"Exceedance Probability\",\n",
    "                      yaxis_title=\"Annual Total\")\n",
    "    return fig\n",
    "\n",
    "def generate_monthly_plot(df, var, scenarios, selected_year):\n",
    "    fig = go.Figure()\n",
    "    colors = get_colors(scenarios)\n",
    "\n",
    "    for s in scenarios:\n",
    "        col = find_col(df, var, s)\n",
    "        if col:\n",
    "            df_copy = df[[col]].copy()\n",
    "            df_copy['Year'] = df_copy.index.year\n",
    "            df_copy['Month'] = df_copy.index.month\n",
    "            df_copy = df_copy[df_copy['Year'] == selected_year]\n",
    "\n",
    "            monthly_avg = df_copy.groupby('Month')[col].mean()\n",
    "\n",
    "            fig.add_trace(go.Scatter(\n",
    "                x=monthly_avg.index,\n",
    "                y=monthly_avg.values,\n",
    "                mode='lines+markers',\n",
    "                name=s,\n",
    "                line=dict(color=colors[s])\n",
    "            ))\n",
    "    fig.update_layout(\n",
    "        title=f\"Monthly Plot for {var} in {selected_year}\",\n",
    "        xaxis_title=\"Month\",\n",
    "        yaxis_title=\"Average Value\",\n",
    "        xaxis=dict(tickmode='array', tickvals=list(range(1, 13)))\n",
    "    )\n",
    "    return fig\n",
    "\n",
    "plot_type_options = [\n",
    "    {\"label\": \"Time Series\", \"value\": \"time_series\"},\n",
    "    {\"label\": \"Monthly-of-Year\", \"value\": \"monthly\"},\n",
    "    {\"label\": \"Single Exceedance\", \"value\": \"single_exceedance\"},\n",
    "    {\"label\": \"Annual Exceedance\", \"value\": \"annual_exceedance\"},\n",
    "    {\"label\": \"Month-of-Year Avg\", \"value\": \"month_of_year_avg\"}\n",
    "]\n",
    "\n",
    "plot_type_descriptions = {\n",
    "    \"time_series\": \"Shows how the selected variable changes over time for each scenario.\",\n",
    "    \"monthly\": \"Displays the monthly average for a selected year.\",\n",
    "    \"single_exceedance\": \"Shows the probability that a value will be equaled or exceeded.\",\n",
    "    \"annual_exceedance\": (\n",
    "        \"Shows how often the selected month's total value exceeds a given threshold across all years. \"\n",
    "        \"Each year’s data for the chosen month is summed (e.g., total flow in April each year), and the \"\n",
    "        \"annual values are ranked from highest to lowest. From these ranks, exceedance probabilities are \"\n",
    "        \"calculated to show how frequently high values occur.\"\n",
    "    ),\n",
    "    \"month_of_year_avg\": (\n",
    "        \"Averages each calendar month across all years, optionally filtered by Water Year Type. \"\n",
    "        \"Water Year Types classify each year based on how wet or dry it was. The scale ranges from 1 (wettest) to 5 (driest).\"\n",
    "    )\n",
    "}\n",
    "\n",
    "app = dash.Dash(__name__)\n",
    "app.layout = html.Div([\n",
    "    html.H2(\"Water Data Dashboard\", style={'textAlign': 'center'}),\n",
    "\n",
    "    html.Label(\"Select Variable\"),\n",
    "    dcc.Dropdown(id=\"variable-dropdown\", options=[{\"label\": v, \"value\": v} for v in variables], value=variables[0]),\n",
    "\n",
    "    html.Label(\"Select Scenarios\"),\n",
    "    dcc.Dropdown(id=\"scenario-dropdown\", options=[{\"label\": s, \"value\": s} for s in scenarios], value=default_scenario, multi=True),\n",
    "\n",
    "    html.Label(\"Select Plot Type\"),\n",
    "    dcc.Dropdown(id=\"plot-type-dropdown\", options=plot_type_options, value=\"time_series\"),\n",
    "\n",
    "    html.Div(id=\"plot-type-description\", style={\"marginTop\": \"10px\", \"fontStyle\": \"italic\", \"color\": \"#555\"}),\n",
    "\n",
    "    html.Div([\n",
    "        html.Label(\"Select Year (for Monthly Plot)\"),\n",
    "        dcc.Dropdown(id=\"year-dropdown\", options=year_options, value=years_in_data[0])\n",
    "    ], id=\"year-container\"),\n",
    "\n",
    "    html.Div([\n",
    "        html.Label(\"Select Water Year Type (1-5)\"),\n",
    "        dcc.Dropdown(id=\"wyt-dropdown\", options=water_year_type_options, value=[], multi=True)\n",
    "    ], id=\"wyt-container\", style={\"display\": \"none\"}),\n",
    "\n",
    "    html.Div([\n",
    "        html.Label(\"Select Month for Annual Exceedance\"),\n",
    "        dcc.Dropdown(id=\"month-dropdown\", options=month_options, value=9)\n",
    "    ], id=\"month-container\", style={\"display\": \"none\"}),\n",
    "\n",
    "    dcc.Graph(id=\"dynamic-plot\")\n",
    "])\n",
    "\n",
    "@app.callback(\n",
    "    [Output(\"dynamic-plot\", \"figure\"),\n",
    "     Output(\"year-container\", \"style\"),\n",
    "     Output(\"wyt-container\", \"style\"),\n",
    "     Output(\"month-container\", \"style\"),\n",
    "     Output(\"plot-type-description\", \"children\")],\n",
    "    [Input(\"variable-dropdown\", \"value\"),\n",
    "     Input(\"scenario-dropdown\", \"value\"),\n",
    "     Input(\"plot-type-dropdown\", \"value\"),\n",
    "     Input(\"year-dropdown\", \"value\"),\n",
    "     Input(\"wyt-dropdown\", \"value\"),\n",
    "     Input(\"month-dropdown\", \"value\")]\n",
    ")\n",
    "def update_plot(var, scenarios, plot_type, year, wyt, month):\n",
    "    show_year = {\"display\": \"block\"} if plot_type == \"monthly\" else {\"display\": \"none\"}\n",
    "    show_wyt = {\"display\": \"block\"} if plot_type == \"month_of_year_avg\" else {\"display\": \"none\"}\n",
    "    show_month = {\"display\": \"block\"} if plot_type == \"annual_exceedance\" else {\"display\": \"none\"}\n",
    "\n",
    "    description = plot_type_descriptions.get(plot_type, \"\")\n",
    "\n",
    "    if not scenarios:\n",
    "        return go.Figure(), show_year, show_wyt, show_month, description\n",
    "\n",
    "    if plot_type == \"time_series\":\n",
    "        fig = generate_time_series_plot(df, var, scenarios)\n",
    "    elif plot_type == \"monthly\":\n",
    "        fig = generate_monthly_plot(df, var, scenarios, year)\n",
    "    elif plot_type == \"single_exceedance\":\n",
    "        fig = generate_single_exceedance_plot(df, var, scenarios)\n",
    "    elif plot_type == \"annual_exceedance\":\n",
    "        fig = generate_annual_exceedance_plot(water_year_df, var, scenarios, month)\n",
    "    elif plot_type == \"month_of_year_avg\":\n",
    "        fig = generate_month_of_year_avg_plot(df, var, scenarios, wyt)\n",
    "    else:\n",
    "        fig = go.Figure()\n",
    "\n",
    "    return fig, show_year, show_wyt, show_month, description\n",
    "\n",
    "\n",
    "if __name__ == '__main__':\n",
    "    app.run(debug=True)"
   ]
  },
  {
   "cell_type": "code",
   "execution_count": null,
   "id": "415bd371-42ee-4332-aded-83de9e5b3206",
   "metadata": {},
   "outputs": [],
   "source": []
  }
 ],
 "metadata": {
  "kernelspec": {
   "display_name": "Python 3 (ipykernel)",
   "language": "python",
   "name": "python3"
  },
  "language_info": {
   "codemirror_mode": {
    "name": "ipython",
    "version": 3
   },
   "file_extension": ".py",
   "mimetype": "text/x-python",
   "name": "python",
   "nbconvert_exporter": "python",
   "pygments_lexer": "ipython3",
   "version": "3.9.6"
  }
 },
 "nbformat": 4,
 "nbformat_minor": 5
}
