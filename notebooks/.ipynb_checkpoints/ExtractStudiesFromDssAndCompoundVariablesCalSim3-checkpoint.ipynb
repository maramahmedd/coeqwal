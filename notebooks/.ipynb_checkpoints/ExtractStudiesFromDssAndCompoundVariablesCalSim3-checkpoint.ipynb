{
 "cells": [
  {
   "cell_type": "markdown",
   "id": "e45f814080c0b939",
   "metadata": {},
   "source": [
    "## Import standard libraries"
   ]
  },
  {
   "cell_type": "code",
   "execution_count": 2,
   "id": "93c91bd1a1e8beca",
   "metadata": {
    "ExecuteTime": {
     "end_time": "2024-07-20T08:04:38.276992Z",
     "start_time": "2024-07-20T08:04:38.274280Z"
    }
   },
   "outputs": [],
   "source": [
    "import os\n",
    "import sys\n",
    "# append coeqwal packages to path\n",
    "sys.path.append('./coeqwalpackage')\n",
    "import datetime as dt\n",
    "import pandas as pd\n",
    "import numpy as np\n",
    "import cqwlutils as cu"
   ]
  },
  {
   "cell_type": "markdown",
   "id": "4dd9145a-2421-4dd1-a31d-1edb2b5a4f64",
   "metadata": {},
   "source": [
    "## Import custom modules"
   ]
  },
  {
   "cell_type": "code",
   "execution_count": 4,
   "id": "1f61561cb3284fbd",
   "metadata": {
    "ExecuteTime": {
     "end_time": "2024-03-07T20:35:57.550559300Z",
     "start_time": "2024-03-07T20:35:57.462942100Z"
    }
   },
   "outputs": [],
   "source": [
    "# Import custom modules - NEED WINDOWS OS\n",
    "from coeqwalpackage.DataExtraction import *\n"
   ]
  },
  {
   "cell_type": "markdown",
   "id": "38a886dad8c6c902",
   "metadata": {},
   "source": [
    "## Define contol file name"
   ]
  },
  {
   "cell_type": "code",
   "execution_count": 6,
   "id": "10b0f49b-17c9-40f5-8861-5680673a5b94",
   "metadata": {},
   "outputs": [],
   "source": [
    "CtrlFile = 'CalSim3DataExtractionInitFile.xlsx'\n",
    "CtrlTab = 'Init'"
   ]
  },
  {
   "cell_type": "markdown",
   "id": "1fcbedee-d507-4e6b-b68f-05925492482d",
   "metadata": {},
   "source": [
    "## Define control file info and indices info (HARD CODED!)"
   ]
  },
  {
   "cell_type": "code",
   "execution_count": 8,
   "id": "845c13b1-0190-49fc-a7f5-087e33665092",
   "metadata": {},
   "outputs": [],
   "source": [
    "ScenarioDirInd = 'B2'\n",
    "DssListFileInd = 'B3'\n",
    "DssListTabInd = 'B4'\n",
    "IndexMinInd = 'C5' # first scenario index\n",
    "IndexMaxInd = 'D5' # last scenario index\n",
    "ScenariosDirMinInd = 'C6' # first dss dir index\n",
    "ScenariosDirMaxInd = 'D6' # last dss dir index\n",
    "DssPathMinInd = 'C7' # first dss path index\n",
    "DssPathMaxInd = 'D7' # last dss path index\n",
    "StartMinInd = 'C8' # first start date index\n",
    "StartMaxInd = 'D8' # last start date index\n",
    "EndMinInd = 'C9' # First end date index\n",
    "EndMaxInd = 'D9' # Last end date index\n",
    "GroupDataDirInd = 'B10' # Group data extraction directory\n",
    "VarFileNameInd = 'B11' # Variable list file name\n",
    "VarFileTabInd = 'B12' # Variable list file tab\n",
    "VarMinInd = 'C13' # top left of variable name block\n",
    "VarMaxInd = 'D13' # bottom right of variable name block\n",
    "ExtractionDirInd = 'B14'\n",
    "ModelFilesDirInd = 'B15'\n",
    "ModelSubDirInd = 'B16'\n"
   ]
  },
  {
   "cell_type": "markdown",
   "id": "2930d0d5-b00a-4a04-86d6-4fa7fb38f59e",
   "metadata": {},
   "source": [
    "## Read directory structure and contol file name"
   ]
  },
  {
   "cell_type": "code",
   "execution_count": 10,
   "id": "7dd2acd3-f2ec-4f53-9902-83c7301d3dfc",
   "metadata": {},
   "outputs": [
    {
     "name": "stdout",
     "output_type": "stream",
     "text": [
      "CalSim3DataExtractionInitFile.xlsx\n",
      "Init\n",
      "../../CalSim3_Model_Runs/Scenarios\\coeqwal_cs3_scenario_listing_v2.xlsx\n"
     ]
    }
   ],
   "source": [
    "print(CtrlFile)\n",
    "print(CtrlTab)\n",
    "Hdr, ScenarioDir = cu.read_from_excel(CtrlFile, CtrlTab, ScenarioDirInd, ScenarioDirInd, hdr=False) # Scenarios directory (../../CalSim3_Model_Runs/Scenarios in the current structure)\n",
    "ScenarioDir = ScenarioDir[0][0]\n",
    "Hdr, DssListFile = cu.read_from_excel(CtrlFile, CtrlTab, DssListFileInd, DssListFileInd, hdr=False) # DSS file names Excel workbook\n",
    "DssListFile = DssListFile[0][0]\n",
    "DSSListPath = os.path.join(ScenarioDir,DssListFile) # path to DSS file names Excel workbook\n",
    "print(DSSListPath)"
   ]
  },
  {
   "cell_type": "markdown",
   "id": "29446521-6a71-4808-b0ac-f98c3e3717e5",
   "metadata": {},
   "source": [
    "## Control file example"
   ]
  },
  {
   "cell_type": "code",
   "execution_count": 12,
   "id": "acc73155-0f97-4ae6-b056-a36eaaa5a6d2",
   "metadata": {},
   "outputs": [],
   "source": [
    "#Item\tName or description\tUpper Left Cell\tLower Right Cell\n",
    "#Scenarios Directory\t../../CalSim3_Model_Runs/Scenarios\t\t\n",
    "#Scenario Listings File\tcoeqwal_cs3_scenario_listing_v2.xlsx\t\t\n",
    "#Scenario Listings Tab\tscenario_list\t\t\n",
    "#Scenario Indices\tScenario identifiers\tA1\tA11\n",
    "#Scenario Directory Indices\tScenario directory names\tC1\tC11\n",
    "#DSS Path Indices\tDss path names\tG1\tG11\n",
    "#Start Date Indices\tStart dates\tH1\tH11\n",
    "#Start Date Indices\tEnd dates\tI1\tI11\n",
    "#Group Extraction Directory\tGroup_Data_Extraction\t\t\n",
    "#Variables Listing File\ttrend_report_variables_v3.xlsx\t\t\n",
    "#Variables List Tab\tVariables List\t\tE177\n",
    "#Variables List Indices\tVariables List Block\tD8\tE177\n",
    "#Data Extraction Dir\tData_Extraction\t\t\n",
    "#Model Files Dir\tModel_Files\t\t\n",
    "#Model Files SubDir\tModelFiles\t\t\n"
   ]
  },
  {
   "cell_type": "markdown",
   "id": "79ca7199-7787-4df4-85f9-7aea3bb7c26f",
   "metadata": {},
   "source": [
    "## Read file names and ranges for DSS and vars from control file"
   ]
  },
  {
   "cell_type": "code",
   "execution_count": 14,
   "id": "39a5763d-1596-417b-8686-10aefdaa9026",
   "metadata": {},
   "outputs": [
    {
     "name": "stdout",
     "output_type": "stream",
     "text": [
      "../../CalSim3_Model_Runs/Scenarios\\Group_Data_Extraction\n"
     ]
    }
   ],
   "source": [
    "Hdr, DssListTab = cu.read_from_excel(CtrlFile, CtrlTab, DssListTabInd, DssListTabInd, hdr=False) # DSS file names Excel workbook Tab\n",
    "DssListTab = DssListTab[0][0]\n",
    "Hdr, IndexMin = cu.read_from_excel(CtrlFile, CtrlTab, IndexMinInd, IndexMinInd, hdr=False) # Scenario Index Name UL\n",
    "IndexMin = IndexMin[0][0]\n",
    "Hdr, IndexMax = cu.read_from_excel(CtrlFile, CtrlTab, IndexMaxInd, IndexMaxInd, hdr=False) # Scenario Index Name LR\n",
    "IndexMax = IndexMax[0][0]\n",
    "Hdr, DirMin = cu.read_from_excel(CtrlFile, CtrlTab, ScenariosDirMinInd, ScenariosDirMinInd, hdr=False) # Scenario Dir Name UL\n",
    "DirMin = DirMin[0][0]\n",
    "Hdr, DirMax = cu.read_from_excel(CtrlFile, CtrlTab, ScenariosDirMaxInd, ScenariosDirMaxInd, hdr=False) # Scenario Dir Name UL\n",
    "DirMax = DirMax[0][0]\n",
    "Hdr, DssMin = cu.read_from_excel(CtrlFile, CtrlTab, DssPathMinInd, DssPathMinInd, hdr=False) # DSS Path Name UL\n",
    "DssMin = DssMin[0][0]\n",
    "Hdr, DssMax = cu.read_from_excel(CtrlFile, CtrlTab, DssPathMaxInd, DssPathMaxInd, hdr=False) # DSS Path Name LR\n",
    "DssMax = DssMax[0][0]\n",
    "Hdr, StartMin = cu.read_from_excel(CtrlFile, CtrlTab, StartMinInd, StartMinInd, hdr=False) # Start Date UL\n",
    "StartMin = StartMin[0][0]\n",
    "Hdr, StartMax = cu.read_from_excel(CtrlFile, CtrlTab, StartMaxInd, StartMaxInd, hdr=False) # Start Date LR\n",
    "StartMax = StartMax[0][0]\n",
    "Hdr, EndMin = cu.read_from_excel(CtrlFile, CtrlTab, EndMinInd, EndMinInd, hdr=False) # Start Date UL\n",
    "EndMin = EndMin[0][0]\n",
    "Hdr, EndMax = cu.read_from_excel(CtrlFile, CtrlTab, EndMaxInd, EndMaxInd, hdr=False) # Start Date LR\n",
    "EndMax = EndMax[0][0]\n",
    "Hdr, GroupDataDirName = cu.read_from_excel(CtrlFile, CtrlTab, GroupDataDirInd, GroupDataDirInd, hdr=False) # directory name for group data extraction (Group_Data_Extraction in current structure)\n",
    "GroupDataDirName = GroupDataDirName[0][0]\n",
    "GroupDataDirPath = os.path.join(ScenarioDir, GroupDataDirName) # group data extraction directory (../../CalSim3_Model_Runs/Scenarios/Group_Data_Extraction in the current structure)\n",
    "print(GroupDataDirPath)\n",
    "Hdr, VarListFileName = cu.read_from_excel(CtrlFile, CtrlTab, VarFileNameInd, VarFileNameInd, hdr=False) # directory name for variable listing (trend_report_variables_v3.xlsx in current structure)\n",
    "VarListFileName = VarListFileName[0][0]\n",
    "Hdr, VarListTab = cu.read_from_excel(CtrlFile, CtrlTab, VarFileTabInd, VarFileTabInd, hdr=False) # tab for variable listing (TrendReportVars_CS3 in current structure)\n",
    "VarListTab = VarListTab[0][0]\n",
    "Hdr, VarMin = cu.read_from_excel(CtrlFile, CtrlTab, VarMinInd, VarMinInd, hdr=False) # variable listing UL\n",
    "VarMin = VarMin[0][0]\n",
    "Hdr, VarMax = cu.read_from_excel(CtrlFile, CtrlTab, VarMaxInd, VarMaxInd, hdr=False) # variable listing LR\n",
    "VarMax = VarMax[0][0]\n",
    "Hdr, ExtractionDir = cu.read_from_excel(CtrlFile, CtrlTab, ExtractionDirInd, ExtractionDirInd, hdr=False) #  Var extraction Dir Name\n",
    "ExtractionDir = ExtractionDir[0][0]\n",
    "Hdr, ModelFilesDir = cu.read_from_excel(CtrlFile, CtrlTab, ModelFilesDirInd, ModelFilesDirInd, hdr=False) #  Var extraction Dir Name\n",
    "ModelFilesDir = ModelFilesDir[0][0]\n",
    "Hdr, ModelSubDir = cu.read_from_excel(CtrlFile, CtrlTab, ModelSubDirInd, ModelSubDirInd, hdr=False) #  Var extraction SubDir Name\n",
    "ModelSubDir = ModelSubDir[0][0]"
   ]
  },
  {
   "cell_type": "markdown",
   "id": "ef643a37-4bf8-4e88-af9c-b683abe11e50",
   "metadata": {},
   "source": [
    "## Construct file and directory names"
   ]
  },
  {
   "cell_type": "code",
   "execution_count": 16,
   "id": "76a92dd2-0943-44ad-9a81-a1a6efcd73db",
   "metadata": {},
   "outputs": [
    {
     "name": "stdout",
     "output_type": "stream",
     "text": [
      "../../CalSim3_Model_Runs/Scenarios\\Group_Data_Extraction\\DssNamesFrom_coeqwal_cs3_scenario_listing_v2.csv\n",
      "../../CalSim3_Model_Runs/Scenarios\\Group_Data_Extraction\\IndicesFrom_coeqwal_cs3_scenario_listing_v2.csv\n",
      "../../CalSim3_Model_Runs/Scenarios\\Group_Data_Extraction\\DirNamesFrom_coeqwal_cs3_scenario_listing_v2.csv\n",
      "../../CalSim3_Model_Runs/Scenarios\\trend_report_variables_v3.xlsx\n",
      "../../CalSim3_Model_Runs/Scenarios\\Group_Data_Extraction\\VarsFrom_trend_report_variables_v3.csv\n",
      "../../CalSim3_Model_Runs/Scenarios\\Group_Data_Extraction\\DataFrom_trend_report_variables_v3.csv\n",
      "Data_Extraction\\Variables_From_trend_report_variables_v3_TrendReportVars_CS3\n",
      "Model_Files\\DSS\\output\n"
     ]
    }
   ],
   "source": [
    "# File and directory names\n",
    "DssListFileCsv = DssListFile.replace(\".xlsx\", \".csv\")\n",
    "DssNamesOut = 'DssNamesFrom_' + DssListFileCsv # output DSS names CSV\n",
    "DssIndicesOut = 'IndicesFrom_' + DssListFileCsv # output DSS indices CSV\n",
    "DssDirsOut = 'DirNamesFrom_' + DssListFileCsv # output directory names CSV\n",
    "DssNamesOutPath = os.path.join(GroupDataDirPath, DssNamesOut) # output DSS names CSV path\n",
    "DssIndicesOutPath = os.path.join(GroupDataDirPath, DssIndicesOut) # output DSS index names CSV path\n",
    "DssDirsOutPath = os.path.join(GroupDataDirPath, DssDirsOut) # output DSS dir names CSV path\n",
    "\n",
    "# list of relevant variables file, tab, and range (B & C parts)\n",
    "VarListName = os.path.splitext(VarListFileName)[0] # variable names file without extension\n",
    "VarListExt = os.path.splitext(VarListFileName)[1] # variable names file extension\n",
    "VarListFile = VarListName + VarListExt # full file name\n",
    "VarListFileCsv = VarListFile.replace(\".xlsx\", \".csv\")\n",
    "VarListPath = os.path.join(ScenarioDir, VarListFile)\n",
    "VarOut = 'VarsFrom_' + VarListFileCsv # output compund variable names CSV\n",
    "VarOutPath = os.path.join(GroupDataDirPath, VarOut)\n",
    "DataOut = 'DataFrom_' + VarListFileCsv # file name for multi-study output CSV\n",
    "DataOutPath = os.path.join(GroupDataDirPath, DataOut) # file name for multi-study output CSV path\n",
    "ExtractionSubDir = 'Variables_From_' + VarListName + '_' + VarListTab\n",
    "ExtractionSubPath = os.path.join(ExtractionDir, ExtractionSubDir)\n",
    "ModelSubPath = os.path.join('Model_Files','DSS','output')\n",
    "print(DssNamesOutPath)\n",
    "print(DssIndicesOutPath)\n",
    "print(DssDirsOutPath)\n",
    "print(VarListPath)\n",
    "print(VarOutPath)\n",
    "print(DataOutPath)\n",
    "print(ExtractionSubPath)\n",
    "print(ModelSubPath)"
   ]
  },
  {
   "cell_type": "markdown",
   "id": "6cd54452-9c03-4f71-ba08-06fe3b8ba071",
   "metadata": {},
   "source": [
    "## Check for output directory and create if necessary"
   ]
  },
  {
   "cell_type": "code",
   "execution_count": 18,
   "id": "168bb493-d379-4c25-a56e-e3da4fab4619",
   "metadata": {},
   "outputs": [],
   "source": [
    "# check if output directory exists\n",
    "if not os.path.exists(GroupDataDirPath):\n",
    "    # print warning\n",
    "    print(\"Warning: directory \" + GroupDataDirPath + \" does not exists and will be created\")\n",
    "    \n",
    "    # Create the directory\n",
    "    os.makedirs(GroupDataDirPath)\n"
   ]
  },
  {
   "cell_type": "markdown",
   "id": "429f736a-622a-4ca0-86f7-8979963700bf",
   "metadata": {},
   "source": [
    "## Define Nan Values"
   ]
  },
  {
   "cell_type": "code",
   "execution_count": 20,
   "id": "17492ae9-5a01-4eb2-b6e1-4422fbd39d5a",
   "metadata": {},
   "outputs": [],
   "source": [
    "# NaN values as defined by CalSim3\n",
    "Nan1 = -901\n",
    "Nan2 = -902"
   ]
  },
  {
   "cell_type": "markdown",
   "id": "e02cf686-69bd-4a22-bc35-42769740aae7",
   "metadata": {},
   "source": [
    "## Read indeces, dss names, directory names, start and end dates, time range"
   ]
  },
  {
   "cell_type": "code",
   "execution_count": 22,
   "id": "79d2a998-acab-49e7-a2bd-25e6336f0ede",
   "metadata": {},
   "outputs": [
    {
     "data": {
      "text/plain": [
       "['s0001_DCR2023_9.3.1_danube_hist\\\\Model_Files\\\\DSS\\\\output\\\\DCR2023_DV_9.3.1_Danube_Hist_v1.7.dss',\n",
       " 's0002_DCR2023_9.3.1_danube_adj\\\\Model_Files\\\\DSS\\\\output\\\\DCR2023_DV_9.3.1_v2a_Danube_Adj_v1.8.dss',\n",
       " 's0003_DCR2023_9.3.1_danube_cc50\\\\Model_Files\\\\DSS\\\\output\\\\DCR2023_DV_9.3.1_Danube_cc50_v1.8.dss',\n",
       " 's0004_DCR2023_9.3.1_danube_cc75\\\\Model_Files\\\\DSS\\\\output\\\\DCR2023_DV_9.3.1_Danube_CC75_v1.8.dss',\n",
       " 's0005_DCR2023_9.3.1_danube_cc95\\\\Model_Files\\\\DSS\\\\output\\\\DCR2023_DV_9.3.1_Danube_CC95_v1.8.dss',\n",
       " 's0006_draftDCP_NDDOff_2020\\\\Model_Files\\\\DSS\\\\output\\\\0_DCR19_12.30_120621_NDDOff_2020.dss',\n",
       " 's0007_draftDCP_NDD_SWP3000_2020\\\\Model_Files\\\\DSS\\\\output\\\\1_DCR19_12.30_120621_NDD_SWP3000_2020.dss',\n",
       " 's0008_draftDCP_NDD_SWP4500_2020\\\\Model_Files\\\\DSS\\\\output\\\\2_DCR19_12.30_120621_NDD_SWP4500_2020.dss',\n",
       " 's0009_draftDCP_NDD_SWP6000_2020\\\\Model_Files\\\\DSS\\\\output\\\\3_DCR19_12.30_120621_NDD_SWP6000_2020.dss',\n",
       " 's0010_draftDCP_NDD_SWP6000_Beth_2020\\\\Model_Files\\\\DSS\\\\output\\\\4_DCR19_12.30_120621_NDD_SWP6000_Beth_2020.dss']"
      ]
     },
     "execution_count": 22,
     "metadata": {},
     "output_type": "execute_result"
    }
   ],
   "source": [
    "dsshdr, dssname = cu.read_from_excel(DSSListPath, DssListTab, DssMin, DssMax, hdr=True)\n",
    "dss_names = []\n",
    "for i in range(len(dssname)):\n",
    "    #modified_name = os.path.join(os.path.split(os.sep(dssname[1:])))\n",
    "    #print(modified_name)\n",
    "    dss_names.append(dssname[i][0])\n",
    "dss_names"
   ]
  },
  {
   "cell_type": "code",
   "execution_count": 23,
   "id": "903558b7-1a87-4911-ba9a-2f7ac847da9b",
   "metadata": {},
   "outputs": [
    {
     "data": {
      "text/plain": [
       "['s0001',\n",
       " 's0002',\n",
       " 's0003',\n",
       " 's0004',\n",
       " 's0005',\n",
       " 's0006',\n",
       " 's0007',\n",
       " 's0008',\n",
       " 's0009',\n",
       " 's0010']"
      ]
     },
     "execution_count": 23,
     "metadata": {},
     "output_type": "execute_result"
    }
   ],
   "source": [
    "indexhdr, index_name = cu.read_from_excel(DSSListPath, DssListTab, IndexMin, IndexMax, hdr=True)\n",
    "index_names = []\n",
    "for i in range(len(index_name)):\n",
    "    index_names.append(index_name[i][0])\n",
    "index_names"
   ]
  },
  {
   "cell_type": "code",
   "execution_count": 24,
   "id": "16f0c016-d82e-4927-b944-f09db7b2f1bc",
   "metadata": {},
   "outputs": [
    {
     "data": {
      "text/plain": [
       "['s0001_DCR2023_9.3.1_danube_hist',\n",
       " 's0002_DCR2023_9.3.1_danube_adj',\n",
       " 's0003_DCR2023_9.3.1_danube_cc50',\n",
       " 's0004_DCR2023_9.3.1_danube_cc75',\n",
       " 's0005_DCR2023_9.3.1_danube_cc95',\n",
       " 's0006_draftDCP_NDDOff_2020',\n",
       " 's0007_draftDCP_NDD_SWP3000_2020',\n",
       " 's0008_draftDCP_NDD_SWP4500_2020',\n",
       " 's0009_draftDCP_NDD_SWP6000_2020',\n",
       " 's0010_draftDCP_NDD_SWP6000_Beth_2020']"
      ]
     },
     "execution_count": 24,
     "metadata": {},
     "output_type": "execute_result"
    }
   ],
   "source": [
    "dirhdr, dir_name = cu.read_from_excel(DSSListPath, DssListTab, DirMin, DirMax, hdr=True)\n",
    "dir_names = []\n",
    "for i in range(len(dir_name)):\n",
    "    dir_names.append(dir_name[i][0])\n",
    "dir_names"
   ]
  },
  {
   "cell_type": "code",
   "execution_count": 25,
   "id": "a456c0e6-61d8-427b-8d45-1814053c4208",
   "metadata": {},
   "outputs": [],
   "source": [
    "starthdr, start_date = cu.read_from_excel(DSSListPath, DssListTab, StartMin, StartMax, hdr=True)\n",
    "start_dates = []\n",
    "for i in range(len(start_date)):\n",
    "    start_dates.append(start_date[i][0])\n",
    "#print(start_dates)\n",
    "datetime_start_dates = pd.to_datetime(start_dates)\n",
    "#print(datetime_start_dates)\n",
    "# turns out that dss reading library wands a dt datetime, not pd datetime\n",
    "dt_datetime_start_dates = [dt.to_pydatetime() for dt in datetime_start_dates]\n",
    "#print(dt_datetime_start_dates)\n"
   ]
  },
  {
   "cell_type": "code",
   "execution_count": 26,
   "id": "464a887b-829e-4773-bb8c-60e8d6ff35ab",
   "metadata": {},
   "outputs": [],
   "source": [
    "endhdr, end_date = cu.read_from_excel(DSSListPath, DssListTab, EndMin, EndMax, hdr=True)\n",
    "end_dates = []\n",
    "for i in range(len(end_date)):\n",
    "    end_dates.append(end_date[i][0])\n",
    "#print(end_dates)\n",
    "datetime_end_dates = pd.to_datetime(end_dates)\n",
    "#print(datetime_end_dates)\n",
    "dt_datetime_end_dates = [dt.to_pydatetime() for dt in datetime_end_dates]\n",
    "#print(dt_datetime_end_dates)\n"
   ]
  },
  {
   "cell_type": "code",
   "execution_count": 27,
   "id": "12b72d5a-0f63-4a97-958b-00ada84e768e",
   "metadata": {},
   "outputs": [
    {
     "name": "stdout",
     "output_type": "stream",
     "text": [
      "Min time: \n",
      "1921-10-31 00:00:00\n",
      "Max time: \n",
      "2021-09-30 00:00:00\n"
     ]
    }
   ],
   "source": [
    "min_datetime = min(dt_datetime_start_dates)\n",
    "print('Min time: ')\n",
    "print(min_datetime)\n",
    "max_datetime = max(dt_datetime_end_dates)\n",
    "print('Max time: ')\n",
    "print(max_datetime)\n"
   ]
  },
  {
   "cell_type": "markdown",
   "id": "a29e2bcf-61a4-43ac-9592-265c4697b238",
   "metadata": {},
   "source": [
    "## Set path and file names for indeces, dss names and directory names and write files"
   ]
  },
  {
   "cell_type": "code",
   "execution_count": 29,
   "id": "9c833f80b59df8b2",
   "metadata": {
    "ExecuteTime": {
     "end_time": "2024-03-01T20:35:11.969298Z",
     "start_time": "2024-03-01T20:35:09.051341400Z"
    }
   },
   "outputs": [
    {
     "name": "stdout",
     "output_type": "stream",
     "text": [
      "../../CalSim3_Model_Runs/Scenarios\\Group_Data_Extraction\\DssNamesFrom_coeqwal_cs3_scenario_listing_v2.csv\n",
      "../../CalSim3_Model_Runs/Scenarios\\Group_Data_Extraction\\IndicesFrom_coeqwal_cs3_scenario_listing_v2.csv\n",
      "../../CalSim3_Model_Runs/Scenarios\\Group_Data_Extraction\\DirNamesFrom_coeqwal_cs3_scenario_listing_v2.csv\n"
     ]
    }
   ],
   "source": [
    "dss_df = (pd.DataFrame(dss_names))\n",
    "dss_df.to_csv(DssNamesOutPath)\n",
    "print(DssNamesOutPath)\n",
    "index_df = (pd.DataFrame(dss_names))\n",
    "index_df.to_csv(DssIndicesOutPath)\n",
    "print(DssIndicesOutPath)\n",
    "dir_df = (pd.DataFrame(dss_names))\n",
    "dir_df.to_csv(DssDirsOutPath)\n",
    "print(DssDirsOutPath)\n"
   ]
  },
  {
   "cell_type": "markdown",
   "id": "19277cc0585f1d94",
   "metadata": {},
   "source": [
    "## Read and write variables list"
   ]
  },
  {
   "cell_type": "code",
   "execution_count": 31,
   "id": "3fb3f15cd87dd616",
   "metadata": {
    "ExecuteTime": {
     "end_time": "2024-04-09T01:54:08.182311Z",
     "start_time": "2024-04-09T01:54:08.163835Z"
    }
   },
   "outputs": [
    {
     "data": {
      "text/html": [
       "<div>\n",
       "<style scoped>\n",
       "    .dataframe tbody tr th:only-of-type {\n",
       "        vertical-align: middle;\n",
       "    }\n",
       "\n",
       "    .dataframe tbody tr th {\n",
       "        vertical-align: top;\n",
       "    }\n",
       "\n",
       "    .dataframe thead th {\n",
       "        text-align: right;\n",
       "    }\n",
       "</style>\n",
       "<table border=\"1\" class=\"dataframe\">\n",
       "  <thead>\n",
       "    <tr style=\"text-align: right;\">\n",
       "      <th></th>\n",
       "      <th>Part B:</th>\n",
       "      <th>Part C:</th>\n",
       "    </tr>\n",
       "  </thead>\n",
       "  <tbody>\n",
       "    <tr>\n",
       "      <th>0</th>\n",
       "      <td>S_TRNTY</td>\n",
       "      <td>STORAGE</td>\n",
       "    </tr>\n",
       "    <tr>\n",
       "      <th>1</th>\n",
       "      <td>C_TRNTY</td>\n",
       "      <td>CHANNEL</td>\n",
       "    </tr>\n",
       "    <tr>\n",
       "      <th>2</th>\n",
       "      <td>C_LWSTN</td>\n",
       "      <td>CHANNEL</td>\n",
       "    </tr>\n",
       "    <tr>\n",
       "      <th>3</th>\n",
       "      <td>D_LWSTN_CCT011</td>\n",
       "      <td>DIVERSION</td>\n",
       "    </tr>\n",
       "    <tr>\n",
       "      <th>4</th>\n",
       "      <td>C_WKYTN</td>\n",
       "      <td>CHANNEL</td>\n",
       "    </tr>\n",
       "    <tr>\n",
       "      <th>...</th>\n",
       "      <td>...</td>\n",
       "      <td>...</td>\n",
       "    </tr>\n",
       "    <tr>\n",
       "      <th>164</th>\n",
       "      <td>C_DMC000</td>\n",
       "      <td>CHANNEL</td>\n",
       "    </tr>\n",
       "    <tr>\n",
       "      <th>165</th>\n",
       "      <td>C_CAA003</td>\n",
       "      <td>CHANNEL</td>\n",
       "    </tr>\n",
       "    <tr>\n",
       "      <th>166</th>\n",
       "      <td>WYT_SAC_</td>\n",
       "      <td>WATER YEAR TYPE</td>\n",
       "    </tr>\n",
       "    <tr>\n",
       "      <th>167</th>\n",
       "      <td>WYT_SJR_</td>\n",
       "      <td>WATER YEAR TYPE</td>\n",
       "    </tr>\n",
       "    <tr>\n",
       "      <th>168</th>\n",
       "      <td>WYT_SHASTA_CVP_</td>\n",
       "      <td>WATER YEAR TYPE</td>\n",
       "    </tr>\n",
       "  </tbody>\n",
       "</table>\n",
       "<p>169 rows × 2 columns</p>\n",
       "</div>"
      ],
      "text/plain": [
       "             Part B:          Part C:\n",
       "0            S_TRNTY          STORAGE\n",
       "1            C_TRNTY          CHANNEL\n",
       "2            C_LWSTN          CHANNEL\n",
       "3     D_LWSTN_CCT011        DIVERSION\n",
       "4            C_WKYTN          CHANNEL\n",
       "..               ...              ...\n",
       "164         C_DMC000          CHANNEL\n",
       "165         C_CAA003          CHANNEL\n",
       "166         WYT_SAC_  WATER YEAR TYPE\n",
       "167         WYT_SJR_  WATER YEAR TYPE\n",
       "168  WYT_SHASTA_CVP_  WATER YEAR TYPE\n",
       "\n",
       "[169 rows x 2 columns]"
      ]
     },
     "execution_count": 31,
     "metadata": {},
     "output_type": "execute_result"
    }
   ],
   "source": [
    "# get vars\n",
    "hdr, vars = cu.read_from_excel(VarListPath, VarListTab,VarMin,VarMax,hdr=True)\n",
    "var_df = pd.DataFrame(data=vars, columns=hdr)\n",
    "var_df"
   ]
  },
  {
   "cell_type": "code",
   "execution_count": 32,
   "id": "46bf197511748b99",
   "metadata": {
    "ExecuteTime": {
     "end_time": "2024-03-01T20:36:38.557235800Z",
     "start_time": "2024-03-01T20:36:35.270309Z"
    }
   },
   "outputs": [
    {
     "data": {
      "text/plain": [
       "'../../CalSim3_Model_Runs/Scenarios\\\\Group_Data_Extraction\\\\VarsFrom_trend_report_variables_v3.csv'"
      ]
     },
     "execution_count": 32,
     "metadata": {},
     "output_type": "execute_result"
    }
   ],
   "source": [
    "# write vars\n",
    "var_df.to_csv(VarOutPath)\n",
    "VarOutPath"
   ]
  },
  {
   "cell_type": "markdown",
   "id": "6628a28e-9f77-493b-8fa2-653417587890",
   "metadata": {},
   "source": [
    "## Loop on DSS files, extract variables and write to scenario-specific CSVs"
   ]
  },
  {
   "cell_type": "code",
   "execution_count": null,
   "id": "7302a6de1b9a8a6",
   "metadata": {
    "ExecuteTime": {
     "end_time": "2024-04-09T01:53:51.833594Z",
     "start_time": "2024-04-09T01:53:51.498533Z"
    }
   },
   "outputs": [
    {
     "name": "stdout",
     "output_type": "stream",
     "text": [
      "\n",
      "Reading ../../CalSim3_Model_Runs/Scenarios\\s0001_DCR2023_9.3.1_danube_hist\\Model_Files\\DSS\\output\\DCR2023_DV_9.3.1_Danube_Hist_v1.7.dss\n",
      "\n",
      "Start: \n",
      "1921-10-31 00:00:00\n",
      "End: \n",
      "2021-09-30 00:00:00\n",
      "Opened file: ../../CalSim3_Model_Runs/Scenarios\\s0001_DCR2023_9.3.1_danube_hist\\Model_Files\\DSS\\output\\DCR2023_DV_9.3.1_Danube_Hist_v1.7.dss\n",
      "Valid catalog found: True \n",
      "Number of records: 233290\n",
      "Took 0.29166340827941895 sec to convert paths to dataframe\n",
      "Took 0.09657573699951172 sec to do group-by operation\n",
      "Took 0.0119476318359375 sec to add column\n"
     ]
    },
    {
     "name": "stderr",
     "output_type": "stream",
     "text": [
      "F:\\Dino\\COEQWAL_GIT\\coeqwal\\notebooks\\coeqwalpackage\\AuxFunctions.py:456: SettingWithCopyWarning: \n",
      "A value is trying to be set on a copy of a slice from a DataFrame.\n",
      "Try using .loc[row_indexer,col_indexer] = value instead\n",
      "\n",
      "See the caveats in the documentation: https://pandas.pydata.org/pandas-docs/stable/user_guide/indexing.html#returning-a-view-versus-a-copy\n",
      "  condcat['search_col'] = ['/'.join([str(c1) for c1 in c]) if type(c)==tuple else c for c in condcat.index]\n",
      "F:\\Dino\\COEQWAL_GIT\\coeqwal\\notebooks\\coeqwalpackage\\AuxFunctions.py:461: SettingWithCopyWarning: \n",
      "A value is trying to be set on a copy of a slice from a DataFrame.\n",
      "Try using .loc[row_indexer,col_indexer] = value instead\n",
      "\n",
      "See the caveats in the documentation: https://pandas.pydata.org/pandas-docs/stable/user_guide/indexing.html#returning-a-view-versus-a-copy\n",
      "  condcat['full_path'] = ['/'+'/'.join([str(c[1][k]) if k !='' else '' for k in keep_parts])+'/' for c in condcat.iterrows()]\n"
     ]
    },
    {
     "name": "stdout",
     "output_type": "stream",
     "text": [
      "Took 1.733363389968872 sec to rebuild modified path\n",
      "Filtering path list\n",
      "A              CALSIM                                                     \\rieving 153 DV Time Series\n",
      "B          COREQSACDV  CO_EC_MONTH     C_AMR004             C_AMR004_ADD   \n",
      "C                FLOW     SALINITY      CHANNEL FLOW-ADDITIONAL-INSTREAM   \n",
      "D                1MON         1MON         1MON                     1MON   \n",
      "E              L2020A       L2020A       L2020A                   L2020A   \n",
      "F            PER-AVER     PER-AVER     PER-AVER                 PER-AVER   \n",
      "Units             CFS     UMHOS/CM          CFS                      CFS   \n",
      "2021-05-31        0.0  4102.830566   645.441528               380.476624   \n",
      "2021-06-30        0.0  6367.166016  1839.481079              1574.516113   \n",
      "2021-07-31        0.0  8060.945312  1755.987549              1491.022705   \n",
      "2021-08-31        0.0  8370.979492  1914.824951              1649.859985   \n",
      "2021-09-30        0.0  8845.489258   402.628326                44.663414   \n",
      "\n",
      "A                                                                           \\\n",
      "B             C_CAA003  C_CAA003_CVP  C_CAA003_SWP      C_CHW017  C_CLV004   \n",
      "C              CHANNEL FLOW-DELIVERY FLOW-DELIVERY       CHANNEL   CHANNEL   \n",
      "D                 1MON          1MON          1MON          1MON      1MON   \n",
      "E               L2020A        L2020A        L2020A        L2020A    L2020A   \n",
      "F             PER-AVER      PER-AVER      PER-AVER      PER-AVER  PER-AVER   \n",
      "Units              CFS           CFS           CFS           CFS       CFS   \n",
      "2021-05-31  543.741333           0.0    543.741333  6.509569e-05  2.547341   \n",
      "2021-06-30  300.000000           0.0    300.000000  1.486661e-08  2.965768   \n",
      "2021-07-31  787.903198           0.0    300.000000  0.000000e+00  3.451807   \n",
      "2021-08-31  462.634399           0.0    300.000000  0.000000e+00  2.206590   \n",
      "2021-09-30  603.000000           0.0    300.000000  0.000000e+00  0.000000   \n",
      "\n",
      "A                        ...                                             \\\n",
      "B              C_DMC000  ...        X2_PRV_KM      S_SLTOT      D_TOTAL   \n",
      "C               CHANNEL  ... X2-POSITION-PREV      STORAGE      CHANNEL   \n",
      "D                  1MON  ...             1MON         1MON         1MON   \n",
      "E                L2020A  ...           L2020A       L2020A       L2020A   \n",
      "F              PER-AVER  ...         PER-AVER     PER-AVER     PER-AVER   \n",
      "Units               CFS  ...               KM          TAF          CFS   \n",
      "2021-05-31  1858.841064  ...        79.529518  1522.762939  2402.582520   \n",
      "2021-06-30  1235.769897  ...        83.642769  1288.431274  1535.769897   \n",
      "2021-07-31  1312.061401  ...        86.041740  1026.143188  2099.964600   \n",
      "2021-08-31  1084.410278  ...        86.828125   803.531067  1547.044678   \n",
      "2021-09-30  1937.149658  ...        89.291069   767.823730  2540.149658   \n",
      "\n",
      "A                                                                    \\\n",
      "B              S_RESTOT S_RESTOT_NOD DEL_CVP_TOTAL DEL_CVPSWP_TOTAL   \n",
      "C               STORAGE      STORAGE  DELIVERY-CVP     DELIVERY-CVP   \n",
      "D                  1MON         1MON          1MON             1MON   \n",
      "E                L2020A       L2020A        L2020A           L2020A   \n",
      "F              PER-AVER     PER-AVER      PER-AVER         PER-AVER   \n",
      "Units               TAF          TAF           CFS              CFS   \n",
      "2021-05-31  7457.528320  5661.058594   7369.422852      7720.693848   \n",
      "2021-06-30  6598.704102  4931.584961   7800.312012      8295.653320   \n",
      "2021-07-31  5526.793457  3990.012695   8445.561523      8953.063477   \n",
      "2021-08-31  4816.351562  3347.171387   6366.236328      6877.445312   \n",
      "2021-09-30  4613.448242  3124.948486   3697.981934      4167.763672   \n",
      "\n",
      "A                                                                   \n",
      "B          DEL_CVP_PAG_TOTAL DEL_CVP_PSCEX_TOTAL DEL_CVP_PRF_TOTAL  \n",
      "C               DELIVERY-CVP        DELIVERY-CVP      DELIVERY-CVP  \n",
      "D                       1MON                1MON              1MON  \n",
      "E                     L2020A              L2020A            L2020A  \n",
      "F                   PER-AVER            PER-AVER          PER-AVER  \n",
      "Units                    CFS                 CFS               CFS  \n",
      "2021-05-31        207.235855         6547.352051        173.086197  \n",
      "2021-06-30        159.561981         6798.495117        198.601974  \n",
      "2021-07-31        165.731598         7377.182129        188.950928  \n",
      "2021-08-31        129.407867         5228.214844        378.818909  \n",
      "2021-09-30         69.802795         2344.656738        933.536011  \n",
      "\n",
      "[5 rows x 162 columns]\n",
      "\n",
      "Writing ../../CalSim3_Model_Runs/Scenarios\\s0001_DCR2023_9.3.1_danube_hist\\Data_Extraction\\Variables_From_trend_report_variables_v3_TrendReportVars_CS3\\DCR2023_DV_9.3.1_Danube_Hist_v1.7.csv\n",
      "\n",
      "\n",
      "Reading ../../CalSim3_Model_Runs/Scenarios\\s0002_DCR2023_9.3.1_danube_adj\\Model_Files\\DSS\\output\\DCR2023_DV_9.3.1_v2a_Danube_Adj_v1.8.dss\n",
      "\n",
      "Start: \n",
      "1921-10-31 00:00:00\n",
      "End: \n",
      "2021-09-30 00:00:00\n",
      "Opened file: ../../CalSim3_Model_Runs/Scenarios\\s0002_DCR2023_9.3.1_danube_adj\\Model_Files\\DSS\\output\\DCR2023_DV_9.3.1_v2a_Danube_Adj_v1.8.dss\n",
      "Valid catalog found: True \n",
      "Number of records: 233312\n",
      "Took 0.28275156021118164 sec to convert paths to dataframe\n",
      "Took 0.06670117378234863 sec to do group-by operation\n",
      "Took 0.015889644622802734 sec to add column\n"
     ]
    },
    {
     "name": "stderr",
     "output_type": "stream",
     "text": [
      "F:\\Dino\\COEQWAL_GIT\\coeqwal\\notebooks\\coeqwalpackage\\AuxFunctions.py:456: SettingWithCopyWarning: \n",
      "A value is trying to be set on a copy of a slice from a DataFrame.\n",
      "Try using .loc[row_indexer,col_indexer] = value instead\n",
      "\n",
      "See the caveats in the documentation: https://pandas.pydata.org/pandas-docs/stable/user_guide/indexing.html#returning-a-view-versus-a-copy\n",
      "  condcat['search_col'] = ['/'.join([str(c1) for c1 in c]) if type(c)==tuple else c for c in condcat.index]\n",
      "F:\\Dino\\COEQWAL_GIT\\coeqwal\\notebooks\\coeqwalpackage\\AuxFunctions.py:461: SettingWithCopyWarning: \n",
      "A value is trying to be set on a copy of a slice from a DataFrame.\n",
      "Try using .loc[row_indexer,col_indexer] = value instead\n",
      "\n",
      "See the caveats in the documentation: https://pandas.pydata.org/pandas-docs/stable/user_guide/indexing.html#returning-a-view-versus-a-copy\n",
      "  condcat['full_path'] = ['/'+'/'.join([str(c[1][k]) if k !='' else '' for k in keep_parts])+'/' for c in condcat.iterrows()]\n"
     ]
    },
    {
     "name": "stdout",
     "output_type": "stream",
     "text": [
      "Took 1.6133809089660645 sec to rebuild modified path\n",
      "Filtering path list\n",
      "[=-----------------------------------------------------------] 2.0% ...Retrieving 153 DV Time Series\r"
     ]
    }
   ],
   "source": [
    "for i in range(len(dss_names)):\n",
    "    dss_name = os.path.join(ScenarioDir, dss_names[i])\n",
    "    datetime_start_date = dt_datetime_start_dates[i]\n",
    "    datetime_end_date = dt_datetime_end_dates[i]\n",
    "    print('\\nReading ' + dss_name + '\\n')   \n",
    "    df = preprocess_study_dss(var_df, dss_name, datetime_start_date, datetime_end_date)\n",
    "    file_path = dss_name.replace(ModelSubPath, ExtractionSubPath).replace(\".dss\", \".csv\")\n",
    "    dir_path = os.path.dirname(file_path)\n",
    "    os.makedirs(dir_path, exist_ok=True)\n",
    "    print(df.tail(5))\n",
    "    print('\\nWriting ' + file_path + '\\n')\n",
    "    df.to_csv(file_path, na_rep=\"NaN\", header=True, index=True)"
   ]
  },
  {
   "cell_type": "markdown",
   "id": "90450152-5ade-4e8d-8829-2746f5612913",
   "metadata": {},
   "source": [
    "## Read all DSS files, combine variables and write to single CSV\n",
    "#### Note: warnings will appear whenever a study length is shorter than the max time range"
   ]
  },
  {
   "cell_type": "code",
   "execution_count": null,
   "id": "be880735-b04e-47ce-969c-e60b1d6ecc53",
   "metadata": {},
   "outputs": [],
   "source": [
    "df = preprocess_compound_data_dss(var_df, ScenarioDir, dss_names, index_names, min_datetime, max_datetime)"
   ]
  },
  {
   "cell_type": "code",
   "execution_count": null,
   "id": "2e81e7cb-138b-4ec7-8d04-43f31d71e35a",
   "metadata": {},
   "outputs": [],
   "source": [
    "df.tail(5)"
   ]
  },
  {
   "cell_type": "code",
   "execution_count": null,
   "id": "ef5e6c08-3bc4-4cfb-9073-2cc60932298e",
   "metadata": {},
   "outputs": [],
   "source": [
    "# replace the two DSS NaN values with NaN\n",
    "df.replace([Nan1, Nan2], np.nan, inplace=True)"
   ]
  },
  {
   "cell_type": "code",
   "execution_count": null,
   "id": "b09c18c9-64de-4e35-b263-1a9bc466885f",
   "metadata": {
    "scrolled": true
   },
   "outputs": [],
   "source": [
    "df.tail(5)"
   ]
  },
  {
   "cell_type": "markdown",
   "id": "18a21684-0557-41e0-b4d2-5ea587fafd5d",
   "metadata": {},
   "source": [
    "## Write the compund dataframe to CSV"
   ]
  },
  {
   "cell_type": "code",
   "execution_count": null,
   "id": "6f9ed99e-35fb-4008-8692-a032f60e8c74",
   "metadata": {},
   "outputs": [],
   "source": [
    "# write the dataframe to CSV\n",
    "print('Writing ' + DataOutPath)\n",
    "df.to_csv(DataOutPath, na_rep=\"NaN\", header=True, index=True)"
   ]
  },
  {
   "cell_type": "code",
   "execution_count": null,
   "id": "30338b68-52fb-4ebb-9f09-c4dbd2198682",
   "metadata": {},
   "outputs": [],
   "source": []
  }
 ],
 "metadata": {
  "kernelspec": {
   "display_name": "Python 3 (ipykernel)",
   "language": "python",
   "name": "python3"
  },
  "language_info": {
   "codemirror_mode": {
    "name": "ipython",
    "version": 3
   },
   "file_extension": ".py",
   "mimetype": "text/x-python",
   "name": "python",
   "nbconvert_exporter": "python",
   "pygments_lexer": "ipython3",
   "version": "3.12.4"
  }
 },
 "nbformat": 4,
 "nbformat_minor": 5
}
